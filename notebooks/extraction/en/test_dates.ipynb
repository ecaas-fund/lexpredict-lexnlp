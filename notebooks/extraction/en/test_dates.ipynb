{
 "cells": [
  {
   "cell_type": "code",
   "execution_count": 10,
   "metadata": {
    "collapsed": true
   },
   "outputs": [],
   "source": [
    "# Imports\n",
    "import sys\n",
    "sys.path.append(\"../\")\n",
    "sys.path.append(\"../../\")\n",
    "sys.path.append(\"../../../\")"
   ]
  },
  {
   "cell_type": "code",
   "execution_count": 11,
   "metadata": {
    "collapsed": true
   },
   "outputs": [],
   "source": [
    "# Import project\n",
    "from dates import *"
   ]
  },
  {
   "cell_type": "code",
   "execution_count": 12,
   "metadata": {},
   "outputs": [
    {
     "data": {
      "text/plain": [
       "[datetime.date(2017, 6, 1),\n",
       " datetime.date(1987, 8, 20),\n",
       " datetime.date(2000, 1, 1)]"
      ]
     },
     "execution_count": 12,
     "metadata": {},
     "output_type": "execute_result"
    }
   ],
   "source": [
    "get_dates(\"\"\"This is an example date 2017-06-01 but I love Aug 20, 1987 \n",
    "and no later than 1/1/2000 and don't keep 6.25 or 9.1,9.2, and 9.3\"\"\")"
   ]
  },
  {
   "cell_type": "code",
   "execution_count": 13,
   "metadata": {
    "collapsed": true
   },
   "outputs": [],
   "source": [
    "text = \"\"\"The term of this lease shall\n",
    "be for a period of five years, commencing\n",
    "on the 1st day of April, 1995, and terminating on the 31st day of\n",
    "March,\n",
    "2000 with an option for an additional five years at the same terms and\n",
    "conditions in this lease, provided that TENANT shall have given the\n",
    "LANDLORD written notice of TENANT’s intention to do so six (6) months prior\n",
    "to the expiration of this lease and that the Tenant is not in default\n",
    "of the Lease.\"\"\""
   ]
  },
  {
   "cell_type": "code",
   "execution_count": 17,
   "metadata": {},
   "outputs": [
    {
     "data": {
      "text/plain": [
       "[datetime.date(1995, 4, 1), datetime.date(2000, 3, 1)]"
      ]
     },
     "execution_count": 17,
     "metadata": {},
     "output_type": "execute_result"
    }
   ],
   "source": [
    "get_raw_dates(text)"
   ]
  },
  {
   "cell_type": "code",
   "execution_count": 15,
   "metadata": {},
   "outputs": [
    {
     "data": {
      "text/plain": [
       "[]"
      ]
     },
     "execution_count": 15,
     "metadata": {},
     "output_type": "execute_result"
    }
   ],
   "source": [
    "get_dates(text)"
   ]
  },
  {
   "cell_type": "code",
   "execution_count": 26,
   "metadata": {},
   "outputs": [
    {
     "data": {
      "text/plain": [
       "[('July 1, 1994 t',\n",
       "  (0, 14),\n",
       "  {'days': [],\n",
       "   'delimiters': [' ', ', ', ' '],\n",
       "   'digits': ['1', '1994'],\n",
       "   'digits_modifier': [],\n",
       "   'extra_tokens': ['t'],\n",
       "   'hours': [],\n",
       "   'minutes': [],\n",
       "   'months': ['July'],\n",
       "   'seconds': [],\n",
       "   'time': [],\n",
       "   'time_periods': [],\n",
       "   'timezones': []}),\n",
       " ('June 30, 1995',\n",
       "  (20, 34),\n",
       "  {'days': [],\n",
       "   'delimiters': [' ', ' ', ', '],\n",
       "   'digits': ['30', '1995'],\n",
       "   'digits_modifier': [],\n",
       "   'extra_tokens': [],\n",
       "   'hours': [],\n",
       "   'minutes': [],\n",
       "   'months': ['June'],\n",
       "   'seconds': [],\n",
       "   'time': [],\n",
       "   'time_periods': [],\n",
       "   'timezones': []})]"
      ]
     },
     "execution_count": 26,
     "metadata": {},
     "output_type": "execute_result"
    }
   ],
   "source": [
    "df = datefinder.DateFinder()\n",
    "list(df.extract_date_strings(\"\"\"July 1, 1994 through June 30, 1995\"\"\"))"
   ]
  }
 ],
 "metadata": {
  "kernelspec": {
   "display_name": "Python 3",
   "language": "python",
   "name": "python3"
  },
  "language_info": {
   "codemirror_mode": {
    "name": "ipython",
    "version": 3
   },
   "file_extension": ".py",
   "mimetype": "text/x-python",
   "name": "python",
   "nbconvert_exporter": "python",
   "pygments_lexer": "ipython3",
   "version": "3.5.2"
  }
 },
 "nbformat": 4,
 "nbformat_minor": 2
}
