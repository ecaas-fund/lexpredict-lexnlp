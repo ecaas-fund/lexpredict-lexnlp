{
 "cells": [
  {
   "cell_type": "code",
   "execution_count": 5,
   "metadata": {
    "collapsed": true
   },
   "outputs": [],
   "source": [
    "# Imports\n",
    "from durations import *"
   ]
  },
  {
   "cell_type": "code",
   "execution_count": 2,
   "metadata": {
    "collapsed": true
   },
   "outputs": [],
   "source": [
    "examples = [\n",
    "    (\"\"\"no more than five days thereafter\"\"\", [('days', 5.0, 5.0)]),\n",
    "    (\"\"\"without at least thirty days of delay\"\"\", [('days', 30.0, 30.0)]),\n",
    "    (\"\"\"at most 90 days shall\"\"\", [('days', 90.0, 90.0)]),\n",
    "    (\"\"\"at most 90 business days shall\"\"\", [('days', 90.0, 90.0)]),\n",
    "    (\"\"\"at most 90 calendar days shall\"\"\", [('days', 90.0, 90.0)]),\n",
    "    (\"\"\"at most ninety days shall\"\"\", [('days', 90.0, 90.0)]),\n",
    "    (\"\"\"at most ninety calendar days shall\"\"\", [('days', 90.0, 90.0)]),    \n",
    "    (\"\"\"at most ninety actual days shall\"\"\", [('days', 90.0, 90.0)]),\n",
    "    (\"\"\"at most ninety business days shall\"\"\", [('days', 90.0, 90.0)]),\n",
    "    (\"\"\"at most forty-five business days shall\"\"\", [('days', 45.0, 45.0)]),\n",
    "    (\"\"\"within a period of one month after\"\"\", [('month', 1.0, 30.0)]),\n",
    "    (\"\"\"before two months pass\"\"\", [('months', 2.0, 60.0)]),\n",
    "    (\"\"\"no more than thirty (30) days\"\"\", [('days', 30.0, 30.0)]),\n",
    "    (\"\"\"no more than two (2) quarters\"\"\", [('quarters', 2.0, 365/2.)]),\n",
    "    (\"\"\"before two months pass\"\"\".upper(), [('months', 2.0, 60.0)]),\n",
    "    (\"\"\"before two months pass\"\"\".title(), [('months', 2.0, 60.0)]),\n",
    "    (\"\"\"at least one month and no more than two months\"\"\".title(), [('month', 1.0, 30.0),\n",
    "                                                                   ('months', 2.0, 60.0)]),\n",
    "    (\"\"\"after the passage of at least one year there can be\"\"\".title(), [('year', 1.0, 365.0)]),\n",
    "    (\"\"\"from a period of two years to five years\"\"\", [(\"years\", 2, 365*2),\n",
    "                                                     (\"years\", 5, 365*5)]),\n",
    "    (\"\"\"after the passage of at least 2.5 years there can be\"\"\".title(), [('years', 2.5, 912.5)]),\n",
    "    (\"\"\"during a hundred days there can be\"\"\".title(), [('days', 100.0, 100.0)]),\n",
    "    (\"\"\"during a hundred days there can be\"\"\".title(), [('days', 100.0, 100.0)]),\n",
    "    (\"\"\"during a dozen days there can be\"\"\".title(), [('days', 12.0, 12.0)]),\n",
    "]"
   ]
  },
  {
   "cell_type": "code",
   "execution_count": 3,
   "metadata": {},
   "outputs": [
    {
     "name": "stdout",
     "output_type": "stream",
     "text": [
      "Accuracy: 100.0% on 23 samples\n"
     ]
    }
   ],
   "source": [
    "total = 0\n",
    "correct = 0\n",
    "\n",
    "for example in examples:\n",
    "    # Get durations\n",
    "    durations = get_durations(example[0])\n",
    "\n",
    "    # Check values\n",
    "    l_diff = set(durations) - set(example[1])\n",
    "    r_diff = set(example[1]) - set(durations)\n",
    "    if len(l_diff) > 0 or len(r_diff) > 0:\n",
    "        print(example[0])\n",
    "        print((l_diff, r_diff, example[1]))\n",
    "        print(\"-\"*16)\n",
    "    else:\n",
    "        #print(durations)\n",
    "        correct += 1\n",
    "    total += 1\n",
    "\n",
    "print(\"Accuracy: {0}% on {1} samples\".format(100.*float(correct)/total, total))"
   ]
  },
  {
   "cell_type": "code",
   "execution_count": 8,
   "metadata": {},
   "outputs": [
    {
     "name": "stdout",
     "output_type": "stream",
     "text": [
      "{'digits_written': ['forty-eight'], 'units': ['months'], 'delimiters': [' ', ' (', ') ', ' ('], 'unit_type': [], 'digits': ['48']}\n",
      "{'digits_written': [], 'units': [], 'delimiters': [')'], 'unit_type': [], 'digits': [',']}\n",
      "{'digits_written': [], 'units': [], 'delimiters': [' '], 'unit_type': [], 'digits': ['.']}\n",
      "{'digits_written': ['twelve'], 'units': ['months'], 'delimiters': [' ', ' (', ') ', ' ('], 'unit_type': [], 'digits': ['12']}\n",
      "{'digits_written': [], 'units': [], 'delimiters': [')'], 'unit_type': [], 'digits': [',']}\n",
      "{'digits_written': ['ten'], 'units': [], 'delimiters': [' '], 'unit_type': [], 'digits': []}\n",
      "{'digits_written': [], 'units': [], 'delimiters': [' '], 'unit_type': [], 'digits': ['.']}\n",
      "{'digits_written': ['ninety'], 'units': ['days'], 'delimiters': [' ', ' (', ') ', ' '], 'unit_type': [], 'digits': ['90']}\n"
     ]
    }
   ],
   "source": [
    "\n",
    "EXAMPLE_TEXT_1 = \"\"\"The term of this license shall be for an initial period of forty-eight (48) months (\"initial term\"),\n",
    "commencing on the date of execution of this Agreement. This license shall thereafter automatically renew on the \n",
    "anniversary of this execution date for additional terms of twelve (12) months (\"subsequent terms\"), unless Licensee\n",
    "sends written notification to US/INTELICOM of Licensee's intention not to renew. Such notification must be received by\n",
    "US/INTELICOM not less than ninety (90) days preceding the automatic annual renewal.\"\"\"\n",
    "for match in re_duration.finditer(EXAMPLE_TEXT_1):\n",
    "    print(match.capturesdict())"
   ]
  },
  {
   "cell_type": "code",
   "execution_count": 10,
   "metadata": {},
   "outputs": [
    {
     "name": "stdout",
     "output_type": "stream",
     "text": [
      "{'digits_written': ['twenty', 'five'], 'units': ['days'], 'delimiters': [' ', ' ', ' ', ' '], 'unit_type': [], 'digits': []}\n"
     ]
    }
   ],
   "source": [
    "for m in re_duration.finditer(\"this is twenty five days past due\"):\n",
    "    print(m.capturesdict())"
   ]
  }
 ],
 "metadata": {
  "kernelspec": {
   "display_name": "Python 3",
   "language": "python",
   "name": "python3"
  },
  "language_info": {
   "codemirror_mode": {
    "name": "ipython",
    "version": 3
   },
   "file_extension": ".py",
   "mimetype": "text/x-python",
   "name": "python",
   "nbconvert_exporter": "python",
   "pygments_lexer": "ipython3",
   "version": "3.5.2"
  }
 },
 "nbformat": 4,
 "nbformat_minor": 2
}
