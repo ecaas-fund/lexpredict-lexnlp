{
 "cells": [
  {
   "cell_type": "code",
   "execution_count": 1,
   "metadata": {
    "collapsed": true
   },
   "outputs": [],
   "source": [
    "# Imports\n",
    "import glob\n",
    "import os\n",
    "import nltk\n",
    "import pandas"
   ]
  },
  {
   "cell_type": "code",
   "execution_count": 2,
   "metadata": {
    "collapsed": true
   },
   "outputs": [],
   "source": [
    "import sys\n",
    "sys.path.append(\"../../nlp/\")\n",
    "os.chdir(\"../../nlp/\")\n",
    "import segmenters"
   ]
  },
  {
   "cell_type": "code",
   "execution_count": 3,
   "metadata": {},
   "outputs": [
    {
     "name": "stdout",
     "output_type": "stream",
     "text": [
      "1000\n"
     ]
    }
   ],
   "source": [
    "file_list = glob.glob(\"../../data/samples/lexpredict-contraxsuite-samples-master/agreements/employment/*.txt\")\n",
    "print(len(file_list))"
   ]
  },
  {
   "cell_type": "code",
   "execution_count": 16,
   "metadata": {
    "collapsed": true
   },
   "outputs": [],
   "source": [
    "# Build coding data frame\n",
    "\n",
    "coding_data = []\n",
    "i = 0\n",
    "for file_name in file_list:\n",
    "    file_buffer = open(file_name, \"rb\").read().decode(\"utf-8\")\n",
    "    sentence_tokenizer = nltk.tokenize.punkt.PunktSentenceTokenizer(file_buffer)\n",
    "    for paragraph in segmenters.get_paragraphs(file_buffer):\n",
    "        coding_data.append((i, file_name, paragraph.replace(\"\\n\", \" \")))\n",
    "        i += 1"
   ]
  },
  {
   "cell_type": "code",
   "execution_count": 17,
   "metadata": {},
   "outputs": [],
   "source": [
    "coding_df = pandas.DataFrame(coding_data, columns = [\"i\", \"file_name\", \"text\"])\n",
    "coding_df.to_csv(\"employment_coding_df.csv\", index=False, encoding=\"utf-8\")"
   ]
  },
  {
   "cell_type": "code",
   "execution_count": null,
   "metadata": {
    "collapsed": true
   },
   "outputs": [],
   "source": []
  }
 ],
 "metadata": {
  "kernelspec": {
   "display_name": "Python 3",
   "language": "python",
   "name": "python3"
  },
  "language_info": {
   "codemirror_mode": {
    "name": "ipython",
    "version": 3
   },
   "file_extension": ".py",
   "mimetype": "text/x-python",
   "name": "python",
   "nbconvert_exporter": "python",
   "pygments_lexer": "ipython3",
   "version": "3.5.2"
  }
 },
 "nbformat": 4,
 "nbformat_minor": 2
}