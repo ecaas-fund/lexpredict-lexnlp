{
 "cells": [
  {
   "cell_type": "code",
   "execution_count": 6,
   "metadata": {
    "collapsed": true
   },
   "outputs": [],
   "source": [
    "# Imports\n",
    "import pandas\n",
    "\n",
    "# Projects\n",
    "from lexnlp.nlp.en.tokens import get_stems, DEFAULT_STEMMER"
   ]
  },
  {
   "cell_type": "code",
   "execution_count": 7,
   "metadata": {},
   "outputs": [
    {
     "data": {
      "text/html": [
       "<div>\n",
       "<style>\n",
       "    .dataframe thead tr:only-child th {\n",
       "        text-align: right;\n",
       "    }\n",
       "\n",
       "    .dataframe thead th {\n",
       "        text-align: left;\n",
       "    }\n",
       "\n",
       "    .dataframe tbody tr th {\n",
       "        vertical-align: top;\n",
       "    }\n",
       "</style>\n",
       "<table border=\"1\" class=\"dataframe\">\n",
       "  <thead>\n",
       "    <tr style=\"text-align: right;\">\n",
       "      <th></th>\n",
       "      <th>Term Locale</th>\n",
       "      <th>Term Category</th>\n",
       "      <th>Term</th>\n",
       "      <th>CaseSensitive</th>\n",
       "    </tr>\n",
       "  </thead>\n",
       "  <tbody>\n",
       "    <tr>\n",
       "      <th>0</th>\n",
       "      <td>en-US</td>\n",
       "      <td>US Code - Title 16</td>\n",
       "      <td>agreement</td>\n",
       "      <td>False</td>\n",
       "    </tr>\n",
       "    <tr>\n",
       "      <th>1</th>\n",
       "      <td>en-US</td>\n",
       "      <td>US Code - Title 15</td>\n",
       "      <td>borrower</td>\n",
       "      <td>False</td>\n",
       "    </tr>\n",
       "    <tr>\n",
       "      <th>2</th>\n",
       "      <td>en-US</td>\n",
       "      <td>US Code - Title 12</td>\n",
       "      <td>loan</td>\n",
       "      <td>False</td>\n",
       "    </tr>\n",
       "    <tr>\n",
       "      <th>3</th>\n",
       "      <td>en-US</td>\n",
       "      <td>US Code - Title 12</td>\n",
       "      <td>lender</td>\n",
       "      <td>False</td>\n",
       "    </tr>\n",
       "    <tr>\n",
       "      <th>4</th>\n",
       "      <td>en-US</td>\n",
       "      <td>Legal - CFR Title 15</td>\n",
       "      <td>section</td>\n",
       "      <td>False</td>\n",
       "    </tr>\n",
       "  </tbody>\n",
       "</table>\n",
       "</div>"
      ],
      "text/plain": [
       "  Term Locale         Term Category       Term  CaseSensitive\n",
       "0       en-US    US Code - Title 16  agreement          False\n",
       "1       en-US    US Code - Title 15   borrower          False\n",
       "2       en-US    US Code - Title 12       loan          False\n",
       "3       en-US    US Code - Title 12     lender          False\n",
       "4       en-US  Legal - CFR Title 15    section          False"
      ]
     },
     "execution_count": 7,
     "metadata": {},
     "output_type": "execute_result"
    }
   ],
   "source": [
    "# Load terms\n",
    "term_df = pandas.read_csv(\"https://raw.githubusercontent.com/LexPredict/lexpredict-legal-dictionary/1.0.2/en/legal/common_law_top1000.csv\")\n",
    "term_df.head()"
   ]
  },
  {
   "cell_type": "code",
   "execution_count": 16,
   "metadata": {},
   "outputs": [],
   "source": [
    "# Pre-populate term stems\n",
    "term_stems = [DEFAULT_STEMMER.stem(t) for t in term_df[\"Term\"]]"
   ]
  },
  {
   "cell_type": "code",
   "execution_count": 17,
   "metadata": {
    "collapsed": true
   },
   "outputs": [],
   "source": [
    "example_text = \"\"\"\n",
    "CREDIT AGREEMENT\n",
    "\n",
    "THIS CREDIT AGREEMENT, dated as of October 1, 1997, among THE RUG BARN,\n",
    "INC., a South Carolina corporation, HOME INNOVATIONS, INC., a Delaware\n",
    "corporation, DHA HOME, INC., a Delaware corporation, and R.A. BRIGGS AND\n",
    "COMPANY, an Illinois corporation (each a \"Borrower\" and collectively, the\n",
    "\"Borrowers\"), DECORATIVE HOME ACCENTS, INC., a Delaware Corporation, DRAYMORE\n",
    "MFG. CORP., a North Carolina corporation, and HOME INNOVATIONS, INC., a New\n",
    "York corporation (each a \"Guarantor\" and collectively, the \"Guarantors\") and\n",
    "the lenders listed on the signature pages hereto (each a \"Lender\" and\n",
    "collectively, the \"Lenders\").\n",
    "\n",
    "BACKGROUND\n",
    "\n",
    "Each Borrower and Guarantor has filed separate petitions for relief under\n",
    "chapter 11 of title 11 of the United States Code with the United States\n",
    "Bankruptcy Court for the Southern District of New York and continues to operate\n",
    "its business as a debtor-in-possession.\n",
    "\n",
    "The Borrowers have requested the Lenders to provide the Borrowers with\n",
    "term loans having an aggregate principal amount equal to $3.75 million and,\n",
    "subject to the terms and conditions set forth herein, the Lenders have agreed\n",
    "to provide such loans.\n",
    "\n",
    "In consideration of the mutual covenants herein contained and of other\n",
    "good and valuable consideration, the receipt and sufficiency of which is hereby\n",
    "acknowledged, and intending to be legally bound hereby, the parties hereto\n",
    "agree as follows:\n",
    "\"\"\""
   ]
  },
  {
   "cell_type": "code",
   "execution_count": 18,
   "metadata": {},
   "outputs": [
    {
     "data": {
      "text/plain": [
       "{'acknowledg': 1,\n",
       " 'agreement': 2,\n",
       " 'bankruptci': 1,\n",
       " 'borrow': 5,\n",
       " 'busi': 1,\n",
       " 'code': 1,\n",
       " 'collect': 3,\n",
       " 'compani': 1,\n",
       " 'condit': 1,\n",
       " 'consider': 2,\n",
       " 'continu': 1,\n",
       " 'corpor': 7,\n",
       " 'court': 1,\n",
       " 'credit': 2,\n",
       " 'district': 1,\n",
       " 'good': 1,\n",
       " 'guarantor': 3,\n",
       " 'home': 4,\n",
       " 'lender': 5,\n",
       " 'list': 1,\n",
       " 'loan': 2,\n",
       " 'new': 2,\n",
       " 'oper': 1,\n",
       " 'page': 1,\n",
       " 'parti': 1,\n",
       " 'petit': 1,\n",
       " 'princip': 1,\n",
       " 'provid': 2,\n",
       " 'receipt': 1,\n",
       " 'relief': 1,\n",
       " 'request': 1,\n",
       " 'signatur': 1,\n",
       " 'state': 2,\n",
       " 'term': 2,\n",
       " 'titl': 1,\n",
       " 'under': 1,\n",
       " 'unit': 2}"
      ]
     },
     "execution_count": 18,
     "metadata": {},
     "output_type": "execute_result"
    }
   ],
   "source": [
    "text_stems = get_stems(example_text, lowercase=True)\n",
    "stem_counts = {}\n",
    "for stem in term_stems:\n",
    "    if stem in text_stems:\n",
    "        stem_counts[stem] = text_stems.count(stem)\n",
    "        \n",
    "stem_counts"
   ]
  },
  {
   "cell_type": "code",
   "execution_count": null,
   "metadata": {
    "collapsed": true
   },
   "outputs": [],
   "source": []
  }
 ],
 "metadata": {
  "kernelspec": {
   "display_name": "Python 3",
   "language": "python",
   "name": "python3"
  },
  "language_info": {
   "codemirror_mode": {
    "name": "ipython",
    "version": 3
   },
   "file_extension": ".py",
   "mimetype": "text/x-python",
   "name": "python",
   "nbconvert_exporter": "python",
   "pygments_lexer": "ipython3",
   "version": "3.5.2"
  }
 },
 "nbformat": 4,
 "nbformat_minor": 2
}
