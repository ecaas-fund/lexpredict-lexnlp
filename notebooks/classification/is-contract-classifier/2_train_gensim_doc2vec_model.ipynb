{
 "cells": [
  {
   "cell_type": "markdown",
   "source": [
    "# Training a Gensim `Doc2Vec` model\n",
    "\n",
    "This language embedding model will be used for vectorizing preprocessed input strings.\n",
    "\n",
    "*Version: 2022-03-29*\n",
    "\n",
    "---\n",
    "\n",
    "**Imports**"
   ],
   "metadata": {
    "collapsed": false,
    "pycharm": {
     "name": "#%% md\n"
    }
   }
  },
  {
   "cell_type": "code",
   "execution_count": 2,
   "outputs": [],
   "source": [
    "# standard library\n",
    "from shutil import copyfileobj\n",
    "from tempfile import NamedTemporaryFile\n",
    "from typing import Final, Tuple\n",
    "from psutil import Process\n",
    "from pathlib import Path\n",
    "\n",
    "# third-party libraries\n",
    "import cloudpickle\n",
    "from tqdm.notebook import tqdm\n",
    "from gensim.models import Doc2Vec\n",
    "\n",
    "# LexNLP\n",
    "from lexnlp.ml.gensim_utils import DummyGensimKeyedVectors, TrainingCallback"
   ],
   "metadata": {
    "collapsed": false,
    "pycharm": {
     "name": "#%%\n"
    }
   }
  },
  {
   "cell_type": "markdown",
   "source": [
    "---\n",
    "\n",
    "## Constants"
   ],
   "metadata": {
    "collapsed": false,
    "pycharm": {
     "name": "#%% md\n"
    }
   }
  },
  {
   "cell_type": "code",
   "execution_count": 3,
   "outputs": [],
   "source": [
    "# directory paths\n",
    "PATH_PREPROCESSED: Final[Path] = Path('./preprocessed/')\n",
    "PATH_OUTPUT: Final[Path] = Path('./output/')\n",
    "PATH_OUTPUT.mkdir(exist_ok=True)\n",
    "\n",
    "# number of processors to use for multiprocessing\n",
    "MAX_WORKERS: Final[int] = (len(Process().cpu_affinity()) - 1) or 1"
   ],
   "metadata": {
    "collapsed": false,
    "pycharm": {
     "name": "#%%\n"
    }
   }
  },
  {
   "cell_type": "markdown",
   "source": [
    "---\n",
    "\n",
    "## Training"
   ],
   "metadata": {
    "collapsed": false,
    "pycharm": {
     "name": "#%% md\n"
    }
   }
  },
  {
   "cell_type": "code",
   "execution_count": 4,
   "outputs": [
    {
     "data": {
      "text/plain": "  0%|          | 0/9 [00:00<?, ?it/s]",
      "application/vnd.jupyter.widget-view+json": {
       "version_major": 2,
       "version_minor": 0,
       "model_id": "6934ea474c94422fa222012afea398dc"
      }
     },
     "metadata": {},
     "output_type": "display_data"
    },
    {
     "name": "stdout",
     "output_type": "stream",
     "text": [
      "Started training...\n",
      "Gensim version: 4.1.2, model.vector_size=200, model.window=10, model.min_count=20, model.dm=True\n",
      "Started epoch 1 / 40\n",
      "...[Epoch 1 | total_train_time: 9.846747789997607]\n",
      "Started epoch 2 / 40\n",
      "...[Epoch 2 | total_train_time: 22.107361511996714]\n",
      "Started epoch 3 / 40\n",
      "...[Epoch 3 | total_train_time: 35.72111703200062]\n",
      "Started epoch 4 / 40\n",
      "...[Epoch 4 | total_train_time: 48.96803596600512]\n",
      "Started epoch 5 / 40\n",
      "...[Epoch 5 | total_train_time: 62.0138194290048]\n",
      "Started epoch 6 / 40\n",
      "...[Epoch 6 | total_train_time: 75.1317966600036]\n",
      "Started epoch 7 / 40\n",
      "...[Epoch 7 | total_train_time: 87.57887790200766]\n",
      "Started epoch 8 / 40\n",
      "...[Epoch 8 | total_train_time: 100.27492325301137]\n",
      "Started epoch 9 / 40\n",
      "...[Epoch 9 | total_train_time: 112.83466162801051]\n",
      "Started epoch 10 / 40\n",
      "...[Epoch 10 | total_train_time: 126.18972277301509]\n",
      "Started epoch 11 / 40\n",
      "...[Epoch 11 | total_train_time: 138.1070833520207]\n",
      "Started epoch 12 / 40\n",
      "...[Epoch 12 | total_train_time: 149.82595640401996]\n",
      "Started epoch 13 / 40\n",
      "...[Epoch 13 | total_train_time: 161.7584392900244]\n",
      "Started epoch 14 / 40\n",
      "...[Epoch 14 | total_train_time: 173.5399072960281]\n",
      "Started epoch 15 / 40\n",
      "...[Epoch 15 | total_train_time: 185.39774400603346]\n",
      "Started epoch 16 / 40\n",
      "...[Epoch 16 | total_train_time: 197.11507637103205]\n",
      "Started epoch 17 / 40\n",
      "...[Epoch 17 | total_train_time: 208.8909814390354]\n",
      "Started epoch 18 / 40\n",
      "...[Epoch 18 | total_train_time: 220.88572708803986]\n",
      "Started epoch 19 / 40\n",
      "...[Epoch 19 | total_train_time: 232.74467482604814]\n",
      "Started epoch 20 / 40\n",
      "...[Epoch 20 | total_train_time: 244.61889680405147]\n",
      "Started epoch 21 / 40\n",
      "...[Epoch 21 | total_train_time: 256.43554420305736]\n",
      "Started epoch 22 / 40\n",
      "...[Epoch 22 | total_train_time: 268.3962685740553]\n",
      "Started epoch 23 / 40\n",
      "...[Epoch 23 | total_train_time: 280.1104130770618]\n",
      "Started epoch 24 / 40\n",
      "...[Epoch 24 | total_train_time: 291.84139726006106]\n",
      "Started epoch 25 / 40\n",
      "...[Epoch 25 | total_train_time: 303.53791540305974]\n",
      "Started epoch 26 / 40\n",
      "...[Epoch 26 | total_train_time: 315.4300440560619]\n",
      "Started epoch 27 / 40\n",
      "...[Epoch 27 | total_train_time: 327.2772849160683]\n",
      "Started epoch 28 / 40\n",
      "...[Epoch 28 | total_train_time: 339.01860916307487]\n",
      "Started epoch 29 / 40\n",
      "...[Epoch 29 | total_train_time: 350.718480785079]\n",
      "Started epoch 30 / 40\n",
      "...[Epoch 30 | total_train_time: 362.5841524210773]\n",
      "Started epoch 31 / 40\n",
      "...[Epoch 31 | total_train_time: 374.433398040077]\n",
      "Started epoch 32 / 40\n",
      "...[Epoch 32 | total_train_time: 386.35917650208285]\n",
      "Started epoch 33 / 40\n",
      "...[Epoch 33 | total_train_time: 398.1694837960895]\n",
      "Started epoch 34 / 40\n",
      "...[Epoch 34 | total_train_time: 409.9851725940898]\n",
      "Started epoch 35 / 40\n",
      "...[Epoch 35 | total_train_time: 421.6154754070958]\n",
      "Started epoch 36 / 40\n",
      "...[Epoch 36 | total_train_time: 433.49764663509995]\n",
      "Started epoch 37 / 40\n",
      "...[Epoch 37 | total_train_time: 445.13308419510577]\n",
      "Started epoch 38 / 40\n",
      "...[Epoch 38 | total_train_time: 457.1358378491059]\n",
      "Started epoch 39 / 40\n",
      "...[Epoch 39 | total_train_time: 468.75829401911324]\n",
      "Started epoch 40 / 40\n",
      "...[Epoch 40 | total_train_time: 480.54461014811386]\n",
      "Ended training.\n"
     ]
    }
   ],
   "source": [
    "with NamedTemporaryFile(mode='wb') as corpus_file:\n",
    "\n",
    "    text_files: Tuple[Path, ...] = tuple(PATH_PREPROCESSED.rglob('*.txt'))\n",
    "    for path in tqdm(text_files, total=len(text_files)):\n",
    "        with open(path, 'rb') as f:\n",
    "            copyfileobj(f, corpus_file)\n",
    "\n",
    "    # train the Doc2Vec model\n",
    "    doc2vec_model: Doc2Vec = Doc2Vec(\n",
    "        documents=None,\n",
    "        corpus_file=corpus_file.name,\n",
    "        vector_size=200,\n",
    "        dm_mean=None,\n",
    "        dm=1,\n",
    "        dbow_words=0,\n",
    "        dm_concat=0,\n",
    "        dm_tag_count=1,\n",
    "        dv=None,\n",
    "        dv_mapfile=None,\n",
    "        comment=None,\n",
    "        trim_rule=None,\n",
    "        window=10,\n",
    "        epochs=40,\n",
    "        shrink_windows=True,\n",
    "        min_count=20,\n",
    "        workers=MAX_WORKERS,\n",
    "        callbacks=(TrainingCallback(),)\n",
    "    )"
   ],
   "metadata": {
    "collapsed": false,
    "pycharm": {
     "name": "#%%\n"
    }
   }
  },
  {
   "cell_type": "markdown",
   "source": [
    "Replace `KeyedVectors` with `DummyGensimKeyedVectors`; this radically reduces file size."
   ],
   "metadata": {
    "collapsed": false,
    "pycharm": {
     "name": "#%% md\n"
    }
   }
  },
  {
   "cell_type": "code",
   "execution_count": 5,
   "outputs": [],
   "source": [
    "doc2vec_model.dv = DummyGensimKeyedVectors(doc2vec_model.dv.vector_size)"
   ],
   "metadata": {
    "collapsed": false,
    "pycharm": {
     "name": "#%%\n"
    }
   }
  },
  {
   "cell_type": "markdown",
   "source": [
    "Create a filename:"
   ],
   "metadata": {
    "collapsed": false,
    "pycharm": {
     "name": "#%% md\n"
    }
   }
  },
  {
   "cell_type": "code",
   "execution_count": 6,
   "outputs": [],
   "source": [
    "filename_doc2vec_model: str = \\\n",
    "f'vectorsize{doc2vec_model.vector_size}_'\\\n",
    "f'window{doc2vec_model.window}_'\\\n",
    "f'dm{doc2vec_model.dm}_'\\\n",
    "f'mincount{doc2vec_model.min_count}_'\\\n",
    "f'epochs{doc2vec_model.epochs}'\\\n",
    "'.doc2vec'"
   ],
   "metadata": {
    "collapsed": false,
    "pycharm": {
     "name": "#%%\n"
    }
   }
  },
  {
   "cell_type": "markdown",
   "source": [
    "Save the model using `cloudpickle` (instead of `Doc2Vec.save(...)`); this ensures `DummyGensimKeyedVectors` is also serialized."
   ],
   "metadata": {
    "collapsed": false,
    "pycharm": {
     "name": "#%% md\n"
    }
   }
  },
  {
   "cell_type": "code",
   "execution_count": 7,
   "outputs": [],
   "source": [
    "with open(PATH_OUTPUT / filename_doc2vec_model, 'wb') as f:\n",
    "    cloudpickle.dump(doc2vec_model, f)"
   ],
   "metadata": {
    "collapsed": false,
    "pycharm": {
     "name": "#%%\n"
    }
   }
  },
  {
   "cell_type": "code",
   "execution_count": null,
   "outputs": [],
   "source": [],
   "metadata": {
    "collapsed": false,
    "pycharm": {
     "name": "#%%\n"
    }
   }
  }
 ],
 "metadata": {
  "kernelspec": {
   "display_name": "Python 3",
   "language": "python",
   "name": "python3"
  },
  "language_info": {
   "codemirror_mode": {
    "name": "ipython",
    "version": 2
   },
   "file_extension": ".py",
   "mimetype": "text/x-python",
   "name": "python",
   "nbconvert_exporter": "python",
   "pygments_lexer": "ipython2",
   "version": "2.7.6"
  }
 },
 "nbformat": 4,
 "nbformat_minor": 0
}