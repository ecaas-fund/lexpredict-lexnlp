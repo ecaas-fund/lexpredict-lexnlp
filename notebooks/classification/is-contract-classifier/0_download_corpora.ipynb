{
 "cells": [
  {
   "cell_type": "markdown",
   "metadata": {
    "collapsed": true,
    "pycharm": {
     "name": "#%% md\n"
    }
   },
   "source": [
    "# 0. Download Corpora\n",
    "\n",
    "*Version: 2022-04-17*\n",
    "\n",
    "---\n",
    "\n",
    "**Imports**"
   ]
  },
  {
   "cell_type": "code",
   "execution_count": 1,
   "outputs": [],
   "source": [
    "# standard library\n",
    "from typing import Set\n",
    "\n",
    "# LexNLP\n",
    "from lexnlp.ml.catalog.download import download_github_release"
   ],
   "metadata": {
    "collapsed": false,
    "pycharm": {
     "name": "#%%\n"
    }
   }
  },
  {
   "cell_type": "code",
   "execution_count": 2,
   "outputs": [],
   "source": [
    "TAGS: Set[str] = {\n",
    "\n",
    "    # a sample of USPTO grant backgrounds\n",
    "    'corpus/uspto-sample/0.1',\n",
    "\n",
    "    # United States Federal Register, 2021\n",
    "    'corpus/govinfo-fr-2021/0.1',\n",
    "\n",
    "    # labeled contract types\n",
    "    'corpus/contract-types/0.1',\n",
    "\n",
    "    # a sample of municipal bonds\n",
    "    'corpus/bonds/0.1',\n",
    "\n",
    "    # Caselaw Access Project; opinions from Arkansas, Illinois, North Carolina, New Mexico\n",
    "    'corpus/caselaw-access-project-ark-ill-nc-nm-subset-144million-characters/0.1',\n",
    "\n",
    "    # Atticus CUAD v1 contracts\n",
    "    'corpus/atticus-cuad-v1-plaintext/0.1',\n",
    "\n",
    "    # EUR-Lex documents downloaded via api.epdb.eu\n",
    "    'corpus/eurlex-sample-10000/0.1',\n",
    "\n",
    "    # ArXiv abstracts containing \"agreement\"\n",
    "    'corpus/arxiv-abstracts-with-agreement/0.1',\n",
    "\n",
    "    # assorted SEC EDGAR filings\n",
    "    'corpus/sec-edgar-forms-3-4-5-8k-10k-sample/0.1',\n",
    "\n",
    "}"
   ],
   "metadata": {
    "collapsed": false,
    "pycharm": {
     "name": "#%%\n"
    }
   }
  },
  {
   "cell_type": "markdown",
   "source": [
    "Note: the above corpora will be downloaded from GitHub and stored on disk! Some may be large. Set `prompt_user=True` in order to validate file sizes."
   ],
   "metadata": {
    "collapsed": false,
    "pycharm": {
     "name": "#%% md\n"
    }
   }
  },
  {
   "cell_type": "code",
   "execution_count": 3,
   "outputs": [
    {
     "name": "stdout",
     "output_type": "stream",
     "text": [
      "corpus/sec-edgar-forms-3-4-5-8k-10k-sample/0.1\n"
     ]
    },
    {
     "name": "stderr",
     "output_type": "stream",
     "text": [
      "INFO:root:Downloading sec-edgar-forms-3-4-5-8k-10k-sample.tar.xz...\n",
      "8.41MiB [00:00, 9.55MiB/s]                           \n",
      "INFO:root:...downloaded sec-edgar-forms-3-4-5-8k-10k-sample.tar.xz to /home/aparsons/lexpredict-contraxsuite-core/lexnlp/ml/catalog/data/corpus/sec-edgar-forms-3-4-5-8k-10k-sample/0.1\n",
      "INFO:root:Detected MD5; verifying (TBm93p9oJ1gVV5DJROwEOA==)...\n",
      "INFO:root:...verified.\n"
     ]
    }
   ],
   "source": [
    "for tag in TAGS:\n",
    "    print(tag)\n",
    "    download_github_release(tag=tag, prompt_user=False)"
   ],
   "metadata": {
    "collapsed": false,
    "pycharm": {
     "name": "#%%\n"
    }
   }
  },
  {
   "cell_type": "code",
   "execution_count": null,
   "outputs": [],
   "source": [],
   "metadata": {
    "collapsed": false,
    "pycharm": {
     "name": "#%%\n"
    }
   }
  }
 ],
 "metadata": {
  "kernelspec": {
   "display_name": "Python 3",
   "language": "python",
   "name": "python3"
  },
  "language_info": {
   "codemirror_mode": {
    "name": "ipython",
    "version": 2
   },
   "file_extension": ".py",
   "mimetype": "text/x-python",
   "name": "python",
   "nbconvert_exporter": "python",
   "pygments_lexer": "ipython2",
   "version": "2.7.6"
  }
 },
 "nbformat": 4,
 "nbformat_minor": 0
}