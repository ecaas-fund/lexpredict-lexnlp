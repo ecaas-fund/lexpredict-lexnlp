{
 "cells": [
  {
   "cell_type": "markdown",
   "metadata": {
    "collapsed": true,
    "pycharm": {
     "name": "#%% md\n"
    }
   },
   "source": [
    "# 1. Preprocess Training Data\n",
    "\n",
    "*Version: 2022-04-19*\n",
    "\n",
    "Prerequisite: necessary corpora have been downloaded and stored in `lexnlp/ml/catalog/data/`.\n",
    "\n",
    "Algorithm:\n",
    "\n",
    "```text\n",
    "For each corpus:\n",
    "    Extract all `.txt` files.\n",
    "    For each text file:\n",
    "        Get sentences until their combined lengths sum to some limit L.\n",
    "        Normalize each sentence.\n",
    "        Lemmatize each sentence.\n",
    "        Tokenize each sentence.\n",
    "        Combine token lists into one string.\n",
    "        Write each string as a single line into a combined text file.\n",
    "```\n",
    "\n",
    "---\n",
    "\n",
    "**Imports**"
   ]
  },
  {
   "cell_type": "code",
   "execution_count": 1,
   "outputs": [
    {
     "name": "stderr",
     "output_type": "stream",
     "text": [
      "/home/aparsons/lexpredict-contraxsuite-core/venv_lexpredict_contraxsuite_core/lib/python3.8/site-packages/sklearn/utils/deprecation.py:143: FutureWarning: The sklearn.tree.tree module is  deprecated in version 0.22 and will be removed in version 0.24. The corresponding classes / functions should instead be imported from sklearn.tree. Anything that cannot be imported from sklearn.tree is now part of the private API.\n",
      "  warnings.warn(message, FutureWarning)\n",
      "/home/aparsons/lexpredict-contraxsuite-core/venv_lexpredict_contraxsuite_core/lib/python3.8/site-packages/sklearn/base.py:329: UserWarning: Trying to unpickle estimator DecisionTreeClassifier from version 0.19.1 when using version 0.23.1. This might lead to breaking code or invalid results. Use at your own risk.\n",
      "  warnings.warn(\n"
     ]
    }
   ],
   "source": [
    "# standard library\n",
    "import csv\n",
    "from pathlib import Path\n",
    "from tarfile import TarFile\n",
    "from tempfile import TemporaryDirectory\n",
    "from typing import Final, List, Set, Tuple\n",
    "from concurrent.futures import ProcessPoolExecutor\n",
    "\n",
    "# third-party libraries\n",
    "from psutil import Process\n",
    "from tqdm.notebook import tqdm\n",
    "\n",
    "# LexNLP\n",
    "from lexnlp.ml.catalog import get_path_from_catalog\n",
    "from lexnlp.ml.normalizers import Normalizer\n",
    "from lexnlp.ml.sklearn_transformers import TransformerPreprocessor\n",
    "from lexnlp.extract.en.addresses.addresses import get_address_annotations\n",
    "from lexnlp.extract.en.amounts import get_amount_annotations\n",
    "from lexnlp.extract.en.dates import get_date_annotations\n",
    "from lexnlp.extract.en.percents import get_percent_annotations\n",
    "from lexnlp.extract.en.ratios import get_ratio_annotations"
   ],
   "metadata": {
    "collapsed": false,
    "pycharm": {
     "name": "#%%\n"
    }
   }
  },
  {
   "cell_type": "markdown",
   "source": [
    "---\n",
    "\n",
    "## Constants, Objects, and Functions"
   ],
   "metadata": {
    "collapsed": false,
    "pycharm": {
     "name": "#%% md\n"
    }
   }
  },
  {
   "cell_type": "code",
   "execution_count": 2,
   "outputs": [],
   "source": [
    "# directory paths\n",
    "PATH_PREPROCESSED: Final[Path] = Path('./preprocessed/')\n",
    "PATH_PREPROCESSED.mkdir(exist_ok=True)\n",
    "\n",
    "# number of processors to use for multiprocessing\n",
    "MAX_WORKERS: Final[int] = (len(Process().cpu_affinity()) - 1) or 1"
   ],
   "metadata": {
    "collapsed": false,
    "pycharm": {
     "name": "#%%\n"
    }
   }
  },
  {
   "cell_type": "code",
   "execution_count": 3,
   "outputs": [],
   "source": [
    "TAGS: Set[str] = {\n",
    "\n",
    "    # Atticus CUAD v1 contracts\n",
    "    # 'corpus/atticus-cuad-v1-plaintext/0.1',\n",
    "\n",
    "    # labeled contract types\n",
    "    'corpus/contract-types/0.1',\n",
    "}"
   ],
   "metadata": {
    "collapsed": false,
    "pycharm": {
     "name": "#%%\n"
    }
   }
  },
  {
   "cell_type": "code",
   "execution_count": 4,
   "outputs": [],
   "source": [
    "def kwarg_wrapper_get_amount_annotations(text):\n",
    "    yield from get_amount_annotations(text=text, extended_sources=False)\n",
    "\n",
    "NORMALIZER: Final[Normalizer] = Normalizer(\n",
    "    normalizations=(\n",
    "        (get_address_annotations, '__ADDRESS__'),\n",
    "        (get_ratio_annotations, '__RATIO__'),\n",
    "        (get_date_annotations, '__DATE__'),\n",
    "        (get_percent_annotations, '__PERCENT__'),\n",
    "        (kwarg_wrapper_get_amount_annotations, '__AMOUNT__'),\n",
    "    ),\n",
    ")"
   ],
   "metadata": {
    "collapsed": false,
    "pycharm": {
     "name": "#%%\n"
    }
   }
  },
  {
   "cell_type": "code",
   "execution_count": 5,
   "outputs": [],
   "source": [
    "TRANSFORMER_PREPROCESSOR: TransformerPreprocessor = TransformerPreprocessor(\n",
    "    normalizer=NORMALIZER,\n",
    ")"
   ],
   "metadata": {
    "collapsed": false,
    "pycharm": {
     "name": "#%%\n"
    }
   }
  },
  {
   "cell_type": "code",
   "execution_count": 6,
   "outputs": [],
   "source": [
    "def _wrapper_preprocess(label_and_text: Tuple[str, str]) -> Tuple[str, str]:\n",
    "    return label_and_text[0], TRANSFORMER_PREPROCESSOR.preprocess(label_and_text[1])\n",
    "\n",
    "def preprocess_corpus(path_corpus: Path) -> Path:\n",
    "    \"\"\"\n",
    "    Extracts and reads all `.txt` files, saving their contents in a list of strings.\n",
    "    Then preprocesses each text and saves to a different list of strings.\n",
    "    Each string from the second list is written as a line in the output file.\n",
    "\n",
    "    Args:\n",
    "        path_corpus (Path):\n",
    "            A Path to a corpus tarfile containing text files.\n",
    "\n",
    "    Returns:\n",
    "        A Path to the output file.\n",
    "    \"\"\"\n",
    "    texts: List[Tuple[str, str]] = []\n",
    "    with TemporaryDirectory() as temporary_directory:\n",
    "        with TarFile.open(name=path_corpus, mode=f'r|{path_corpus.suffix.split(\".\")[-1]}') as tar_file:\n",
    "            tar_file.extractall(path=temporary_directory)\n",
    "            text_files: Tuple[Path] = tuple(Path(temporary_directory).rglob('*.txt'))\n",
    "            for text_file in text_files:\n",
    "                label: str = text_file.parent.parts[-1]\n",
    "                with text_file.open('r') as f:\n",
    "                    try:\n",
    "                        text: str = f.read()\n",
    "                        texts.append((label, text))\n",
    "                    except UnicodeDecodeError as unicode_decode_error:\n",
    "                        print(f'...{unicode_decode_error} @ {text_file}')\n",
    "\n",
    "    with ProcessPoolExecutor(max_workers=MAX_WORKERS) as process_pool_executor:\n",
    "        documents: List[str] = list(tqdm(\n",
    "            process_pool_executor.map(_wrapper_preprocess, texts),\n",
    "            total=len(texts)\n",
    "        ))\n",
    "\n",
    "    directory: Path = PATH_PREPROCESSED / tag\n",
    "    directory.mkdir(parents=True, exist_ok=True)\n",
    "    path_output_file: Path = directory / f'{path_corpus.name}.csv'\n",
    "    with path_output_file.open('w') as f:\n",
    "        csv_writer = csv.writer(f)\n",
    "        csv_writer.writerow(('label', 'text'))\n",
    "        for label_and_text in documents:\n",
    "            csv_writer.writerow(label_and_text)\n",
    "    return path_output_file"
   ],
   "metadata": {
    "collapsed": false,
    "pycharm": {
     "name": "#%%\n"
    }
   }
  },
  {
   "cell_type": "markdown",
   "source": [
    "---\n",
    "\n",
    "## Preprocess Corpora"
   ],
   "metadata": {
    "collapsed": false,
    "pycharm": {
     "name": "#%% md\n"
    }
   }
  },
  {
   "cell_type": "code",
   "execution_count": 7,
   "outputs": [
    {
     "name": "stdout",
     "output_type": "stream",
     "text": [
      "Preprocessing corpus/contract-types/0.1\n"
     ]
    },
    {
     "data": {
      "text/plain": "  0%|          | 0/2387 [00:00<?, ?it/s]",
      "application/vnd.jupyter.widget-view+json": {
       "version_major": 2,
       "version_minor": 0,
       "model_id": "c2f3d69765634226b3820cd40a02534d"
      }
     },
     "metadata": {},
     "output_type": "display_data"
    }
   ],
   "source": [
    "for tag in TAGS:\n",
    "    path_corpus: Path = get_path_from_catalog(tag=tag)\n",
    "    print('Preprocessing', tag)\n",
    "    preprocess_corpus(path_corpus=path_corpus)"
   ],
   "metadata": {
    "collapsed": false,
    "pycharm": {
     "name": "#%%\n"
    }
   }
  },
  {
   "cell_type": "markdown",
   "source": [],
   "metadata": {
    "collapsed": false,
    "pycharm": {
     "name": "#%% md\n"
    }
   }
  }
 ],
 "metadata": {
  "kernelspec": {
   "display_name": "Python 3",
   "language": "python",
   "name": "python3"
  },
  "language_info": {
   "codemirror_mode": {
    "name": "ipython",
    "version": 2
   },
   "file_extension": ".py",
   "mimetype": "text/x-python",
   "name": "python",
   "nbconvert_exporter": "python",
   "pygments_lexer": "ipython2",
   "version": "2.7.6"
  }
 },
 "nbformat": 4,
 "nbformat_minor": 0
}