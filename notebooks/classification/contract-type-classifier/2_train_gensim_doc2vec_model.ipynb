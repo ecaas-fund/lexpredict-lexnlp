{
 "cells": [
  {
   "cell_type": "markdown",
   "source": [
    "# Training a Gensim `Doc2Vec` model\n",
    "\n",
    "This language embedding model will be used for vectorizing preprocessed input strings.\n",
    "\n",
    "*Version: 2022-04-19*\n",
    "\n",
    "---\n",
    "\n",
    "**Imports**"
   ],
   "metadata": {
    "collapsed": false,
    "pycharm": {
     "name": "#%% md\n"
    }
   }
  },
  {
   "cell_type": "code",
   "execution_count": 1,
   "outputs": [],
   "source": [
    "# standard library\n",
    "import csv\n",
    "from shutil import copyfileobj\n",
    "from tempfile import NamedTemporaryFile\n",
    "from typing import Final, Tuple\n",
    "from psutil import Process\n",
    "from pathlib import Path\n",
    "\n",
    "# third-party libraries\n",
    "import cloudpickle\n",
    "from tqdm.notebook import tqdm\n",
    "from gensim.models import Doc2Vec\n",
    "from pandas import DataFrame, read_csv, concat\n",
    "\n",
    "# LexNLP\n",
    "from lexnlp.ml.gensim_utils import DummyGensimKeyedVectors, TrainingCallback"
   ],
   "metadata": {
    "collapsed": false,
    "pycharm": {
     "name": "#%%\n"
    }
   }
  },
  {
   "cell_type": "markdown",
   "source": [
    "---\n",
    "\n",
    "## Constants"
   ],
   "metadata": {
    "collapsed": false,
    "pycharm": {
     "name": "#%% md\n"
    }
   }
  },
  {
   "cell_type": "code",
   "execution_count": 2,
   "outputs": [],
   "source": [
    "# directory paths\n",
    "PATH_PREPROCESSED: Final[Path] = Path('./preprocessed/')\n",
    "PATH_OUTPUT: Final[Path] = Path('./output/')\n",
    "PATH_OUTPUT.mkdir(exist_ok=True)\n",
    "\n",
    "# number of processors to use for multiprocessing\n",
    "MAX_WORKERS: Final[int] = (len(Process().cpu_affinity()) - 1) or 1"
   ],
   "metadata": {
    "collapsed": false,
    "pycharm": {
     "name": "#%%\n"
    }
   }
  },
  {
   "cell_type": "markdown",
   "source": [
    "---\n",
    "\n",
    "## Training"
   ],
   "metadata": {
    "collapsed": false,
    "pycharm": {
     "name": "#%% md\n"
    }
   }
  },
  {
   "cell_type": "code",
   "execution_count": 3,
   "outputs": [
    {
     "name": "stdout",
     "output_type": "stream",
     "text": [
      "Started training...\n",
      "Gensim version: 4.1.2, model.vector_size=200, model.window=10, model.min_count=20, model.dm=True\n",
      "Started epoch 1 / 40\n",
      "...[Epoch 1 | total_train_time: 8.010563021001872]\n",
      "Started epoch 2 / 40\n",
      "...[Epoch 2 | total_train_time: 18.961073338999995]\n",
      "Started epoch 3 / 40\n",
      "...[Epoch 3 | total_train_time: 29.97430093100411]\n",
      "Started epoch 4 / 40\n",
      "...[Epoch 4 | total_train_time: 40.92812875901291]\n",
      "Started epoch 5 / 40\n",
      "...[Epoch 5 | total_train_time: 52.11123081902042]\n",
      "Started epoch 6 / 40\n",
      "...[Epoch 6 | total_train_time: 63.10769526602235]\n",
      "Started epoch 7 / 40\n",
      "...[Epoch 7 | total_train_time: 73.96174055703159]\n",
      "Started epoch 8 / 40\n",
      "...[Epoch 8 | total_train_time: 84.61831618103315]\n",
      "Started epoch 9 / 40\n",
      "...[Epoch 9 | total_train_time: 95.4833044380357]\n",
      "Started epoch 10 / 40\n",
      "...[Epoch 10 | total_train_time: 106.30930993004586]\n",
      "Started epoch 11 / 40\n",
      "...[Epoch 11 | total_train_time: 117.0936355470476]\n",
      "Started epoch 12 / 40\n",
      "...[Epoch 12 | total_train_time: 128.38158319305512]\n",
      "Started epoch 13 / 40\n",
      "...[Epoch 13 | total_train_time: 139.1576755320566]\n",
      "Started epoch 14 / 40\n",
      "...[Epoch 14 | total_train_time: 149.78041893205955]\n",
      "Started epoch 15 / 40\n",
      "...[Epoch 15 | total_train_time: 160.57506784006546]\n",
      "Started epoch 16 / 40\n",
      "...[Epoch 16 | total_train_time: 171.53541673606378]\n",
      "Started epoch 17 / 40\n",
      "...[Epoch 17 | total_train_time: 182.57824350705778]\n",
      "Started epoch 18 / 40\n",
      "...[Epoch 18 | total_train_time: 193.68412903905846]\n",
      "Started epoch 19 / 40\n",
      "...[Epoch 19 | total_train_time: 204.23082921605965]\n",
      "Started epoch 20 / 40\n",
      "...[Epoch 20 | total_train_time: 214.80934424005682]\n",
      "Started epoch 21 / 40\n",
      "...[Epoch 21 | total_train_time: 225.5671882320603]\n",
      "Started epoch 22 / 40\n",
      "...[Epoch 22 | total_train_time: 236.53067549405387]\n",
      "Started epoch 23 / 40\n",
      "...[Epoch 23 | total_train_time: 247.7389772220631]\n",
      "Started epoch 24 / 40\n",
      "...[Epoch 24 | total_train_time: 258.4821825300751]\n",
      "Started epoch 25 / 40\n",
      "...[Epoch 25 | total_train_time: 269.29995861106727]\n",
      "Started epoch 26 / 40\n",
      "...[Epoch 26 | total_train_time: 280.45907398207055]\n",
      "Started epoch 27 / 40\n",
      "...[Epoch 27 | total_train_time: 291.40653018407465]\n",
      "Started epoch 28 / 40\n",
      "...[Epoch 28 | total_train_time: 302.58136460508103]\n",
      "Started epoch 29 / 40\n",
      "...[Epoch 29 | total_train_time: 313.73799026008055]\n",
      "Started epoch 30 / 40\n",
      "...[Epoch 30 | total_train_time: 324.5179376570886]\n",
      "Started epoch 31 / 40\n",
      "...[Epoch 31 | total_train_time: 335.4658302290918]\n",
      "Started epoch 32 / 40\n",
      "...[Epoch 32 | total_train_time: 346.20082221108896]\n",
      "Started epoch 33 / 40\n",
      "...[Epoch 33 | total_train_time: 357.3173944600858]\n",
      "Started epoch 34 / 40\n",
      "...[Epoch 34 | total_train_time: 368.63752032509365]\n",
      "Started epoch 35 / 40\n",
      "...[Epoch 35 | total_train_time: 379.5373087570915]\n",
      "Started epoch 36 / 40\n",
      "...[Epoch 36 | total_train_time: 390.49299401008466]\n",
      "Started epoch 37 / 40\n",
      "...[Epoch 37 | total_train_time: 401.56574868808093]\n",
      "Started epoch 38 / 40\n",
      "...[Epoch 38 | total_train_time: 412.4760627330834]\n",
      "Started epoch 39 / 40\n",
      "...[Epoch 39 | total_train_time: 423.1333741540875]\n",
      "Started epoch 40 / 40\n",
      "...[Epoch 40 | total_train_time: 433.9260909280856]\n",
      "Ended training.\n",
      "CPU times: user 39min 32s, sys: 9.36 s, total: 39min 41s\n",
      "Wall time: 7min 20s\n"
     ]
    }
   ],
   "source": [
    "%%time\n",
    "\n",
    "with NamedTemporaryFile(mode='w') as corpus_file:\n",
    "\n",
    "    # convert `text` column of CSV files to a single, newline-separated text file\n",
    "    csv_files: Tuple[Path, ...] = tuple(PATH_PREPROCESSED.rglob('*.csv'))\n",
    "    dataframe: DataFrame = concat(map(read_csv, csv_files), ignore_index=True)\n",
    "    for line in dataframe['text']:\n",
    "        corpus_file.write(f'{line}\\n')\n",
    "\n",
    "    # train the Doc2Vec model\n",
    "    doc2vec_model: Doc2Vec = Doc2Vec(\n",
    "        documents=None,\n",
    "        corpus_file=corpus_file.name,\n",
    "        vector_size=200,\n",
    "        dm_mean=None,\n",
    "        dm=1,\n",
    "        dbow_words=0,\n",
    "        dm_concat=0,\n",
    "        dm_tag_count=1,\n",
    "        dv=None,\n",
    "        dv_mapfile=None,\n",
    "        comment=None,\n",
    "        trim_rule=None,\n",
    "        window=10,\n",
    "        epochs=40,\n",
    "        shrink_windows=True,\n",
    "        min_count=20,\n",
    "        workers=MAX_WORKERS,\n",
    "        callbacks=(TrainingCallback(),)\n",
    "    )"
   ],
   "metadata": {
    "collapsed": false,
    "pycharm": {
     "name": "#%%\n"
    }
   }
  },
  {
   "cell_type": "markdown",
   "source": [
    "Replace `KeyedVectors` with `DummyGensimKeyedVectors`; this radically reduces file size."
   ],
   "metadata": {
    "collapsed": false,
    "pycharm": {
     "name": "#%% md\n"
    }
   }
  },
  {
   "cell_type": "code",
   "execution_count": 4,
   "outputs": [],
   "source": [
    "doc2vec_model.dv = DummyGensimKeyedVectors(doc2vec_model.dv.vector_size)"
   ],
   "metadata": {
    "collapsed": false,
    "pycharm": {
     "name": "#%%\n"
    }
   }
  },
  {
   "cell_type": "markdown",
   "source": [
    "Create a filename:"
   ],
   "metadata": {
    "collapsed": false,
    "pycharm": {
     "name": "#%% md\n"
    }
   }
  },
  {
   "cell_type": "code",
   "execution_count": 5,
   "outputs": [],
   "source": [
    "filename_doc2vec_model: str = \\\n",
    "f'vectorsize{doc2vec_model.vector_size}_'\\\n",
    "f'window{doc2vec_model.window}_'\\\n",
    "f'dm{doc2vec_model.dm}_'\\\n",
    "f'mincount{doc2vec_model.min_count}_'\\\n",
    "f'epochs{doc2vec_model.epochs}'\\\n",
    "'.doc2vec'"
   ],
   "metadata": {
    "collapsed": false,
    "pycharm": {
     "name": "#%%\n"
    }
   }
  },
  {
   "cell_type": "markdown",
   "source": [
    "Save the model using `cloudpickle` (instead of `Doc2Vec.save(...)`); this ensures `DummyGensimKeyedVectors` is also serialized."
   ],
   "metadata": {
    "collapsed": false,
    "pycharm": {
     "name": "#%% md\n"
    }
   }
  },
  {
   "cell_type": "code",
   "execution_count": 6,
   "outputs": [
    {
     "name": "stdout",
     "output_type": "stream",
     "text": [
      "CPU times: user 9.63 ms, sys: 11.9 ms, total: 21.6 ms\n",
      "Wall time: 122 ms\n"
     ]
    }
   ],
   "source": [
    "%%time\n",
    "\n",
    "with open(PATH_OUTPUT / filename_doc2vec_model, 'wb') as f:\n",
    "    cloudpickle.dump(doc2vec_model, f)"
   ],
   "metadata": {
    "collapsed": false,
    "pycharm": {
     "name": "#%%\n"
    }
   }
  },
  {
   "cell_type": "code",
   "execution_count": null,
   "outputs": [],
   "source": [],
   "metadata": {
    "collapsed": false,
    "pycharm": {
     "name": "#%%\n"
    }
   }
  }
 ],
 "metadata": {
  "kernelspec": {
   "display_name": "Python 3",
   "language": "python",
   "name": "python3"
  },
  "language_info": {
   "codemirror_mode": {
    "name": "ipython",
    "version": 2
   },
   "file_extension": ".py",
   "mimetype": "text/x-python",
   "name": "python",
   "nbconvert_exporter": "python",
   "pygments_lexer": "ipython2",
   "version": "2.7.6"
  }
 },
 "nbformat": 4,
 "nbformat_minor": 0
}