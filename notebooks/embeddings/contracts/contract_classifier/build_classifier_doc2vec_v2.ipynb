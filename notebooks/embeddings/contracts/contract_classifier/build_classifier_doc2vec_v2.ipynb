{
 "cells": [
  {
   "cell_type": "code",
   "execution_count": 6,
   "metadata": {
    "collapsed": true
   },
   "outputs": [],
   "source": [
    "# Imports\n",
    "import glob\n",
    "import os\n",
    "import string\n",
    "import sys\n",
    "import tarfile\n",
    "\n",
    "# Path setup\n",
    "sys.path.append(\"/data/workspace/lexpredict-contraxsuite-core/\")\n",
    "\n",
    "# Packages\n",
    "from lexnlp.nlp.en.segments.sentences import get_sentence_list\n",
    "from lexnlp.nlp.en.tokens import get_stems\n",
    "\n",
    "import numpy\n",
    "import pandas\n",
    "\n",
    "\n",
    "# Gensim\n",
    "import gensim.models.word2vec\n",
    "import gensim.models.doc2vec\n",
    "\n",
    "# Sklearn\n",
    "import sklearn.linear_model\n",
    "import sklearn.ensemble"
   ]
  },
  {
   "cell_type": "code",
   "execution_count": 14,
   "metadata": {
    "collapsed": true
   },
   "outputs": [],
   "source": [
    "def process_sentence(sentence):\n",
    "    sentence_stems = [s for s in get_stems(sentence, stopword=True, lowercase=True) if s.isalpha()]\n",
    "    return sentence_stems\n",
    "\n",
    "def process_document(document):\n",
    "    doc_words = []\n",
    "    for sentence in get_sentence_list(document):\n",
    "        doc_words.extend(process_sentence(sentence))\n",
    "    return doc_words"
   ]
  },
  {
   "cell_type": "code",
   "execution_count": 102,
   "metadata": {
    "collapsed": true
   },
   "outputs": [],
   "source": [
    "#d2v_model = gensim.models.word2vec.Word2Vec.load(\"../models/d2v_cbow_lease_size200_window10\")\n",
    "d2v_model = gensim.models.word2vec.Word2Vec.load(\"../models/d2v_all_size200_window20\")"
   ]
  },
  {
   "cell_type": "code",
   "execution_count": 103,
   "metadata": {
    "collapsed": true
   },
   "outputs": [],
   "source": [
    "# Load coding file\n",
    "coding_df = pandas.read_csv(\"../all_coding.csv\", low_memory=False)"
   ]
  },
  {
   "cell_type": "code",
   "execution_count": null,
   "metadata": {},
   "outputs": [
    {
     "name": "stdout",
     "output_type": "stream",
     "text": [
      "('/data/workspace/lexpredict-contraxsuite-core/test_data/agreements-text.tar.gz', 0, 0.0, 'agreements-text', 0)\n",
      "('/data/workspace/lexpredict-contraxsuite-core/test_data/agreements-text.tar.gz', 100, 1.0, 'agreements-text/878720_10-K_2000-04-28_6', 99)\n",
      "('/data/workspace/lexpredict-contraxsuite-core/test_data/agreements-text.tar.gz', 200, 2.0, 'agreements-text/1354942_8-K_2008-02-11_2', 199)\n",
      "('/data/workspace/lexpredict-contraxsuite-core/test_data/agreements-text.tar.gz', 300, 3.0, 'agreements-text/1135264_8-K_2007-01-05_15', 299)\n",
      "('/data/workspace/lexpredict-contraxsuite-core/test_data/agreements-text.tar.gz', 400, 4.0, 'agreements-text/775473_10-K_2005-03-16_2', 399)\n",
      "('/data/workspace/lexpredict-contraxsuite-core/test_data/agreements-text.tar.gz', 500, 5.0, 'agreements-text/69488_10-K_2006-03-16_4', 499)\n",
      "('/data/workspace/lexpredict-contraxsuite-core/test_data/agreements-text.tar.gz', 600, 6.0, 'agreements-text/1019825_8-K_2002-05-09_12', 599)\n",
      "('/data/workspace/lexpredict-contraxsuite-core/test_data/agreements-text.tar.gz', 700, 7.000000000000001, 'agreements-text/1013706_8-K_2004-03-30_3', 699)\n",
      "('/data/workspace/lexpredict-contraxsuite-core/test_data/agreements-text.tar.gz', 800, 8.0, 'agreements-text/846378_10-Q_1999-05-17_2', 799)\n",
      "('/data/workspace/lexpredict-contraxsuite-core/test_data/agreements-text.tar.gz', 900, 9.0, 'agreements-text/748580_8-K_2007-09-20_3', 899)\n",
      "('/data/workspace/lexpredict-contraxsuite-core/test_data/agreements-text.tar.gz', 1000, 10.0, 'agreements-text/825521_10-K_2002-02-25_15', 999)\n",
      "('/data/workspace/lexpredict-contraxsuite-core/test_data/agreements-text.tar.gz', 1100, 11.0, 'agreements-text/30697_8-K_2000-01-24_2', 1099)\n",
      "('/data/workspace/lexpredict-contraxsuite-core/test_data/agreements-text.tar.gz', 1200, 12.0, 'agreements-text/1077634_10-Q_2008-08-19_4', 1199)\n",
      "('/data/workspace/lexpredict-contraxsuite-core/test_data/agreements-text.tar.gz', 1300, 13.0, 'agreements-text/1403676_8-K_2012-01-06_3', 1299)\n",
      "('/data/workspace/lexpredict-contraxsuite-core/test_data/agreements-text.tar.gz', 1400, 14.000000000000002, 'agreements-text/866787_10-Q_1999-01-05_4', 1399)\n",
      "('/data/workspace/lexpredict-contraxsuite-core/test_data/agreements-text.tar.gz', 1500, 15.0, 'agreements-text/1176373_8-K_2005-08-02_7', 1499)\n",
      "('/data/workspace/lexpredict-contraxsuite-core/test_data/agreements-text.tar.gz', 1600, 16.0, 'agreements-text/920527_8-K_2002-11-20_3', 1599)\n",
      "('/data/workspace/lexpredict-contraxsuite-core/test_data/agreements-text.tar.gz', 1700, 17.0, 'agreements-text/760678_10-K_1996-06-28_3', 1699)\n",
      "('/data/workspace/lexpredict-contraxsuite-core/test_data/agreements-text.tar.gz', 1800, 18.0, 'agreements-text/1256536_10-Q_2005-07-29_2', 1799)\n",
      "('/data/workspace/lexpredict-contraxsuite-core/test_data/agreements-text.tar.gz', 1900, 19.0, 'agreements-text/1084717_8-K_2012-02-02_4', 1899)\n",
      "('/data/workspace/lexpredict-contraxsuite-core/test_data/agreements-text.tar.gz', 2000, 20.0, 'agreements-text/721237_8-K_2008-10-23_2', 1999)\n",
      "('/data/workspace/lexpredict-contraxsuite-core/test_data/agreements-text.tar.gz', 2100, 21.0, 'agreements-text/1126530_8-K_2017-03-17_10', 2099)\n",
      "('/data/workspace/lexpredict-contraxsuite-core/test_data/agreements-text.tar.gz', 2200, 22.0, 'agreements-text/1050915_8-K_2006-04-27_2', 2199)\n",
      "('/data/workspace/lexpredict-contraxsuite-core/test_data/agreements-text.tar.gz', 2300, 23.0, 'agreements-text/808362_8-K_2008-04-02_2', 2299)\n",
      "('/data/workspace/lexpredict-contraxsuite-core/test_data/agreements-text.tar.gz', 2400, 24.0, 'agreements-text/1073431_10-K_2012-02-29_2', 2399)\n",
      "('/data/workspace/lexpredict-contraxsuite-core/test_data/agreements-text.tar.gz', 2500, 25.0, 'agreements-text/104519_10-Q_1998-11-16_17', 2499)\n",
      "('/data/workspace/lexpredict-contraxsuite-core/test_data/agreements-text.tar.gz', 2600, 26.0, 'agreements-text/350426_10-Q_2002-08-12_12', 2599)\n",
      "('/data/workspace/lexpredict-contraxsuite-core/test_data/agreements-text.tar.gz', 2700, 27.0, 'agreements-text/18172_8-K_2010-09-21_2', 2699)\n",
      "('/data/workspace/lexpredict-contraxsuite-core/test_data/agreements-text.tar.gz', 2800, 28.000000000000004, 'agreements-text/891014_10-K_2010-02-25_6', 2799)\n",
      "('/data/workspace/lexpredict-contraxsuite-core/test_data/agreements-text.tar.gz', 2900, 28.999999999999996, 'agreements-text/1088034_8-K_2014-12-24_2', 2899)\n",
      "('/data/workspace/lexpredict-contraxsuite-core/test_data/agreements-text.tar.gz', 3000, 30.0, 'agreements-text/911522_8-K_1998-01-07_3', 2999)\n",
      "('/data/workspace/lexpredict-contraxsuite-core/test_data/agreements-text.tar.gz', 3100, 31.0, 'agreements-text/913616_8-K_2008-08-01_2', 3099)\n",
      "('/data/workspace/lexpredict-contraxsuite-core/test_data/agreements-text.tar.gz', 3200, 32.0, 'agreements-text/811830_8-K_2006-11-14_3', 3199)\n",
      "('/data/workspace/lexpredict-contraxsuite-core/test_data/agreements-text.tar.gz', 3300, 33.0, 'agreements-text/872589_10-K_2016-02-11_4', 3299)\n",
      "('/data/workspace/lexpredict-contraxsuite-core/test_data/agreements-text.tar.gz', 3400, 34.0, 'agreements-text/719739_10-Q_2008-11-10_2', 3399)\n",
      "('/data/workspace/lexpredict-contraxsuite-core/test_data/agreements-text.tar.gz', 3500, 35.0, 'agreements-text/1399768_10-K_2009-02-20_4', 3499)\n",
      "('/data/workspace/lexpredict-contraxsuite-core/test_data/agreements-text.tar.gz', 3600, 36.0, 'agreements-text/874534_8-K_1996-07-16_11', 3599)\n",
      "('/data/workspace/lexpredict-contraxsuite-core/test_data/agreements-text.tar.gz', 3700, 37.0, 'agreements-text/1029389_10-K_2000-03-30_7', 3699)\n",
      "('/data/workspace/lexpredict-contraxsuite-core/test_data/agreements-text.tar.gz', 3800, 38.0, 'agreements-text/276889_8-K_1997-05-05_2', 3799)\n",
      "('/data/workspace/lexpredict-contraxsuite-core/test_data/agreements-text.tar.gz', 3900, 39.0, 'agreements-text/1012623_8-K_1999-07-22_2', 3899)\n",
      "('/data/workspace/lexpredict-contraxsuite-core/test_data/agreements-text.tar.gz', 4000, 40.0, 'agreements-text/357264_10-K_2010-03-12_6', 3999)\n",
      "('/data/workspace/lexpredict-contraxsuite-core/test_data/agreements-text.tar.gz', 4100, 41.0, 'agreements-text/102420_10-K_1996-03-27_20', 4099)\n",
      "('/data/workspace/lexpredict-contraxsuite-core/test_data/agreements-text.tar.gz', 4200, 42.0, 'agreements-text/1047733_8-K_2001-10-11_3', 4199)\n",
      "('/data/workspace/lexpredict-contraxsuite-core/test_data/agreements-text.tar.gz', 4300, 43.0, 'agreements-text/1074972_10-K_1999-03-23_2', 4299)\n",
      "('/data/workspace/lexpredict-contraxsuite-core/test_data/agreements-text.tar.gz', 4400, 44.0, 'agreements-text/1183765_8-K_2006-08-09_5', 4399)\n",
      "('/data/workspace/lexpredict-contraxsuite-core/test_data/agreements-text.tar.gz', 4500, 45.0, 'agreements-text/1324344_8-K_2010-03-24_3', 4499)\n",
      "('/data/workspace/lexpredict-contraxsuite-core/test_data/agreements-text.tar.gz', 4600, 46.0, 'agreements-text/1001385_8-K_2010-06-24_2', 4599)\n",
      "('/data/workspace/lexpredict-contraxsuite-core/test_data/agreements-text.tar.gz', 4700, 47.0, 'agreements-text/795665_8-K_1998-02-04_4', 4699)\n",
      "('/data/workspace/lexpredict-contraxsuite-core/test_data/agreements-text.tar.gz', 4800, 48.0, 'agreements-text/945841_10-K_2008-02-29_3', 4799)\n",
      "('/data/workspace/lexpredict-contraxsuite-core/test_data/agreements-text.tar.gz', 4900, 49.0, 'agreements-text/1041859_10-Q_1997-12-16_2', 4899)\n",
      "('/data/workspace/lexpredict-contraxsuite-core/test_data/agreements-text.tar.gz', 5000, 50.0, 'agreements-text/928735_10-K_1998-03-23_6', 4999)\n",
      "('/data/workspace/lexpredict-contraxsuite-core/test_data/agreements-text.tar.gz', 5100, 51.0, 'agreements-text/909111_10-Q_2006-08-09_6', 5099)\n",
      "('/data/workspace/lexpredict-contraxsuite-core/test_data/agreements-text.tar.gz', 5200, 52.0, 'agreements-text/1041061_10-Q_2009-07-21_5', 5199)\n",
      "('/data/workspace/lexpredict-contraxsuite-core/test_data/agreements-text.tar.gz', 5300, 53.0, 'agreements-text/866253_10-Q_1997-11-14_3', 5299)\n",
      "('/data/workspace/lexpredict-contraxsuite-core/test_data/agreements-text.tar.gz', 5400, 54.0, 'agreements-text/1049108_10-Q_2000-11-13_6', 5399)\n",
      "('/data/workspace/lexpredict-contraxsuite-core/test_data/agreements-text.tar.gz', 5500, 55.00000000000001, 'agreements-text/716634_10-K_2008-03-28_5', 5499)\n",
      "('/data/workspace/lexpredict-contraxsuite-core/test_data/agreements-text.tar.gz', 5600, 56.00000000000001, 'agreements-text/100826_10-Q_2008-08-08_3', 5599)\n"
     ]
    },
    {
     "name": "stdout",
     "output_type": "stream",
     "text": [
      "('/data/workspace/lexpredict-contraxsuite-core/test_data/agreements-text.tar.gz', 5700, 56.99999999999999, 'agreements-text/942787_8-K_1998-06-22_9', 5699)\n",
      "('/data/workspace/lexpredict-contraxsuite-core/test_data/agreements-text.tar.gz', 5800, 57.99999999999999, 'agreements-text/350832_8-K_2013-01-15_2', 5799)\n",
      "('/data/workspace/lexpredict-contraxsuite-core/test_data/agreements-text.tar.gz', 5900, 59.0, 'agreements-text/1290205_8-K_2005-05-11_5', 5899)\n",
      "('/data/workspace/lexpredict-contraxsuite-core/test_data/agreements-text.tar.gz', 6000, 60.0, 'agreements-text/1113129_10-Q_2000-11-14_10', 5999)\n"
     ]
    }
   ],
   "source": [
    "# Sample data\n",
    "doc_vectors = []\n",
    "doc_targets = []\n",
    "min_stem_count = 10\n",
    "\n",
    "# Iterate through class paths\n",
    "file_name = \"/data/workspace/lexpredict-contraxsuite-core/test_data/agreements-text.tar.gz\"\n",
    "\n",
    "with tarfile.open(file_name, \"r:gz\") as corpus_tar_file:\n",
    "    member_list = corpus_tar_file.getmembers()[0:10000]\n",
    "    num_members = len(member_list)\n",
    "    \n",
    "    # Iterate through all\n",
    "    for i, tar_member in enumerate(member_list):\n",
    "        # Output\n",
    "        if i % 100 == 0:\n",
    "            print((file_name, i, float(i)/num_members * 100., tar_member.name, len(doc_vectors)))\n",
    "\n",
    "        # Get class from coding file\n",
    "        member_base_name = os.path.basename(tar_member.name)\n",
    "        try:\n",
    "            class_name = coding_df.loc[coding_df[\"output_file_name\"] == member_base_name, \"class\"].values[0]\n",
    "        except IndexError:\n",
    "            continue\n",
    "        \n",
    "        # Read file\n",
    "        member_file = corpus_tar_file.extractfile(tar_member.name)\n",
    "        if member_file is None:\n",
    "            print((file_name, tar_member.name, \"invalid file\"))\n",
    "            continue\n",
    "        member_buffer = member_file.read().decode(\"utf-8\")\n",
    "        if len(member_buffer.strip()) == 0:\n",
    "            continue\n",
    "\n",
    "        # Parse into sentence data\n",
    "        try:\n",
    "            doc_words = process_document(member_buffer)\n",
    "            doc_vectors.append(d2v_model.infer_vector(doc_words))\n",
    "            doc_targets.append(class_name)            \n",
    "        except Exception as e:\n",
    "            print(e)"
   ]
  },
  {
   "cell_type": "code",
   "execution_count": null,
   "metadata": {
    "collapsed": true
   },
   "outputs": [],
   "source": [
    "# Test logistic model\n",
    "log_model = sklearn.linear_model.LogisticRegressionCV()\n",
    "log_model.fit(doc_vectors, doc_targets)\n",
    "\n",
    "# Test in-sample\n",
    "log_predicted = log_model.predict(doc_vectors)\n",
    "print(sklearn.metrics.classification_report(doc_targets, log_predicted))"
   ]
  },
  {
   "cell_type": "code",
   "execution_count": null,
   "metadata": {
    "collapsed": true
   },
   "outputs": [],
   "source": [
    "# Test logistic model\n",
    "rf_model = sklearn.ensemble.RandomForestClassifier(n_estimators=100)\n",
    "#rf_model = sklearn.ensemble.ExtraTreesClassifier(n_estimators=100)\n",
    "rf_model.fit(doc_vectors, doc_targets)\n",
    "\n",
    "# Test in-sample\n",
    "rf_predicted = rf_model.predict(doc_vectors)\n",
    "print(sklearn.metrics.classification_report(doc_targets, rf_predicted))"
   ]
  },
  {
   "cell_type": "code",
   "execution_count": null,
   "metadata": {
    "collapsed": true
   },
   "outputs": [],
   "source": [
    "# Sample data\n",
    "test_doc_vectors = []\n",
    "test_doc_targets = []\n",
    "min_stem_count = 10\n",
    "\n",
    "# Iterate through class paths\n",
    "file_name = \"/data/workspace/lexpredict-contraxsuite-core/test_data/agreements-text.tar.gz\"\n",
    "\n",
    "with tarfile.open(file_name, \"r:gz\") as corpus_tar_file:\n",
    "    member_list = corpus_tar_file.getmembers()[15000:16000]\n",
    "    num_members = len(member_list)\n",
    "    \n",
    "    # Iterate through all\n",
    "    for i, tar_member in enumerate(member_list):\n",
    "        # Output\n",
    "        if i % 100 == 0:\n",
    "            print((file_name, i, float(i)/num_members * 100., tar_member.name, len(test_doc_vectors)))\n",
    "\n",
    "        # Get class from coding file\n",
    "        member_base_name = os.path.basename(tar_member.name)\n",
    "        try:\n",
    "            class_name = coding_df.loc[coding_df[\"output_file_name\"] == member_base_name, \"class\"].values[0]\n",
    "        except IndexError:\n",
    "            continue\n",
    "        \n",
    "        # Read file\n",
    "        member_file = corpus_tar_file.extractfile(tar_member.name)\n",
    "        if member_file is None:\n",
    "            print((file_name, tar_member.name, \"invalid file\"))\n",
    "            continue\n",
    "        member_buffer = member_file.read().decode(\"utf-8\")\n",
    "        if len(member_buffer.strip()) == 0:\n",
    "            continue\n",
    "\n",
    "        # Parse into sentence data\n",
    "        try:\n",
    "            test_doc_words = process_document(member_buffer)\n",
    "            test_doc_vectors.append(d2v_model.infer_vector(test_doc_words))\n",
    "            test_doc_targets.append(class_name)            \n",
    "        except Exception as e:\n",
    "            print(e)"
   ]
  },
  {
   "cell_type": "code",
   "execution_count": 114,
   "metadata": {},
   "outputs": [
    {
     "name": "stdout",
     "output_type": "stream",
     "text": [
      "Logistic:\n",
      "                     precision    recall  f1-score   support\n",
      "\n",
      "         consulting       0.68      0.52      0.59        25\n",
      "             credit       0.93      0.97      0.95       218\n",
      "    indemnification       0.90      0.95      0.92        19\n",
      "   labor_employment       0.71      0.86      0.78       191\n",
      "            license       0.90      0.82      0.86        34\n",
      "real_estate_leasing       0.84      0.68      0.75        38\n",
      "         securities       0.82      0.78      0.80       242\n",
      "           services       0.75      0.35      0.47        26\n",
      "         settlement       0.71      0.23      0.34        22\n",
      "        transaction       0.73      0.76      0.74       181\n",
      "            venture       0.00      0.00      0.00         3\n",
      "\n",
      "        avg / total       0.80      0.80      0.79       999\n",
      "\n",
      "Random Forest:\n",
      "                     precision    recall  f1-score   support\n",
      "\n",
      "         consulting       0.83      0.20      0.32        25\n",
      "             credit       0.85      0.96      0.90       218\n",
      "    indemnification       1.00      0.79      0.88        19\n",
      "   labor_employment       0.68      0.86      0.76       191\n",
      "            license       0.80      0.35      0.49        34\n",
      "real_estate_leasing       1.00      0.53      0.69        38\n",
      "         securities       0.76      0.81      0.78       242\n",
      "           services       0.00      0.00      0.00        26\n",
      "         settlement       0.00      0.00      0.00        22\n",
      "        transaction       0.69      0.77      0.73       181\n",
      "            venture       0.00      0.00      0.00         3\n",
      "\n",
      "        avg / total       0.73      0.76      0.73       999\n",
      "\n"
     ]
    },
    {
     "name": "stderr",
     "output_type": "stream",
     "text": [
      "/data/workspace/lexpredict-contraxsuite-core/env/lib/python3.5/site-packages/sklearn/metrics/classification.py:1135: UndefinedMetricWarning: Precision and F-score are ill-defined and being set to 0.0 in labels with no predicted samples.\n",
      "  'precision', 'predicted', average, warn_for)\n"
     ]
    }
   ],
   "source": [
    "# Predict\n",
    "log_test_doc_predicted = log_model.predict(test_doc_vectors).tolist()\n",
    "rf_test_doc_predicted = rf_model.predict(test_doc_vectors).tolist()\n",
    "\n",
    "# Output report\n",
    "print(\"Logistic:\")\n",
    "print(sklearn.metrics.classification_report(test_doc_targets, log_test_doc_predicted))\n",
    "\n",
    "print(\"Random Forest:\")\n",
    "print(sklearn.metrics.classification_report(test_doc_targets, rf_test_doc_predicted))"
   ]
  },
  {
   "cell_type": "code",
   "execution_count": null,
   "metadata": {
    "collapsed": true
   },
   "outputs": [],
   "source": []
  }
 ],
 "metadata": {
  "kernelspec": {
   "display_name": "Python 3",
   "language": "python",
   "name": "python3"
  },
  "language_info": {
   "codemirror_mode": {
    "name": "ipython",
    "version": 3
   },
   "file_extension": ".py",
   "mimetype": "text/x-python",
   "name": "python",
   "nbconvert_exporter": "python",
   "pygments_lexer": "ipython3",
   "version": "3.5.2"
  }
 },
 "nbformat": 4,
 "nbformat_minor": 2
}