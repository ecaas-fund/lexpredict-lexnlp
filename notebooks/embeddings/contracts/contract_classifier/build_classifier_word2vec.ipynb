{
 "cells": [
  {
   "cell_type": "code",
   "execution_count": 54,
   "metadata": {
    "collapsed": true
   },
   "outputs": [],
   "source": [
    "# Imports\n",
    "import glob\n",
    "import string\n",
    "import sys\n",
    "import tarfile\n",
    "\n",
    "# Path setup\n",
    "sys.path.append(\"/data/workspace/lexpredict-contraxsuite-core/\")\n",
    "\n",
    "# Packages\n",
    "from lexnlp.nlp.en.segments.sentences import get_sentences\n",
    "from lexnlp.nlp.en.tokens import get_stem_generator, get_stems\n",
    "\n",
    "# Gensim\n",
    "import gensim.models.word2vec\n",
    "import numpy"
   ]
  },
  {
   "cell_type": "code",
   "execution_count": 55,
   "metadata": {
    "collapsed": true
   },
   "outputs": [],
   "source": [
    "def process_sentence(sentence):\n",
    "    sentence_stems = [s for s in get_stems(sentence, stopword=True, lowercase=True) if s.isalpha()]\n",
    "    return sentence_stems"
   ]
  },
  {
   "cell_type": "code",
   "execution_count": 56,
   "metadata": {
    "collapsed": true
   },
   "outputs": [],
   "source": [
    "w2v_model = gensim.models.word2vec.Word2Vec.load(\"../models/w2v_cbow_all_size300_window20\")"
   ]
  },
  {
   "cell_type": "code",
   "execution_count": 57,
   "metadata": {
    "collapsed": true
   },
   "outputs": [],
   "source": [
    "sentence = \"\"\"\n",
    "LIBOR Rate Loan shall mean any Loan when and to the extent that the interest rate therefore\n",
    "is determined by reference to the LIBOR Rate.\n",
    "\"\"\""
   ]
  },
  {
   "cell_type": "code",
   "execution_count": 58,
   "metadata": {
    "collapsed": true
   },
   "outputs": [],
   "source": [
    "vectors = []\n",
    "N = w2v_model.wv.syn0.shape[1]\n",
    "for stem in process_sentence(sentence):\n",
    "    if stem in w2v_model.wv:\n",
    "        vectors.append(w2v_model.wv[stem])\n",
    "    else:\n",
    "        vectors.append(numpy.zeros(N))\n",
    "text_vector = numpy.mean(vectors, axis=0)"
   ]
  },
  {
   "cell_type": "code",
   "execution_count": null,
   "metadata": {
    "collapsed": true
   },
   "outputs": [],
   "source": []
  }
 ],
 "metadata": {
  "kernelspec": {
   "display_name": "Python 3",
   "language": "python",
   "name": "python3"
  },
  "language_info": {
   "codemirror_mode": {
    "name": "ipython",
    "version": 3
   },
   "file_extension": ".py",
   "mimetype": "text/x-python",
   "name": "python",
   "nbconvert_exporter": "python",
   "pygments_lexer": "ipython3",
   "version": "3.5.2"
  }
 },
 "nbformat": 4,
 "nbformat_minor": 2
}
