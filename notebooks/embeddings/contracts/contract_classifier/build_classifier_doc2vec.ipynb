{
 "cells": [
  {
   "cell_type": "code",
   "execution_count": 1,
   "metadata": {
    "collapsed": true
   },
   "outputs": [],
   "source": [
    "# Imports\n",
    "import glob\n",
    "import os\n",
    "import string\n",
    "import sys\n",
    "import tarfile\n",
    "\n",
    "# Path setup\n",
    "sys.path.append(\"/data/workspace/lexpredict-contraxsuite-core/\")\n",
    "\n",
    "# Packages\n",
    "from lexnlp.nlp.en.segments.sentences import get_sentences\n",
    "from lexnlp.nlp.en.tokens import get_stem_generator, get_stems\n",
    "\n",
    "# Gensimf\n",
    "import gensim.models.word2vec\n",
    "import gensim.models.doc2vec\n",
    "import numpy\n",
    "\n",
    "# Sklearn\n",
    "import sklearn.linear_model\n",
    "import sklearn.ensemble"
   ]
  },
  {
   "cell_type": "code",
   "execution_count": 2,
   "metadata": {
    "collapsed": true
   },
   "outputs": [],
   "source": [
    "def process_sentence(sentence):\n",
    "    sentence_stems = [s for s in get_stems(sentence, stopword=True, lowercase=True) if s.isalpha()]\n",
    "    return sentence_stems\n",
    "\n",
    "def process_document(document):\n",
    "    doc_words = []\n",
    "    for sentence in get_sentences(document):\n",
    "        doc_words.extend(process_sentence(sentence))\n",
    "    return doc_words"
   ]
  },
  {
   "cell_type": "code",
   "execution_count": 3,
   "metadata": {
    "collapsed": true
   },
   "outputs": [],
   "source": [
    "#d2v_model = gensim.models.word2vec.Word2Vec.load(\"../models/d2v_cbow_lease_size200_window10\")\n",
    "d2v_model = gensim.models.word2vec.Word2Vec.load(\"../models/d2v_all_size50_window5\")"
   ]
  },
  {
   "cell_type": "code",
   "execution_count": 5,
   "metadata": {
    "collapsed": true
   },
   "outputs": [],
   "source": [
    "path_list = [\"/data/workspace/lexpredict-contraxsuite-samples/agreements/construction/\",\n",
    "            \"/data/workspace/lexpredict-contraxsuite-samples/agreements/credit/\",\n",
    "             \"/data/workspace/lexpredict-contraxsuite-samples/agreements/employment/\",\n",
    "             \"/data/workspace/lexpredict-contraxsuite-samples/agreements/software_license/\",\n",
    "            ]"
   ]
  },
  {
   "cell_type": "code",
   "execution_count": 12,
   "metadata": {},
   "outputs": [
    {
     "name": "stdout",
     "output_type": "stream",
     "text": [
      "construction\n",
      "credit\n",
      "employment\n",
      "software_license\n"
     ]
    }
   ],
   "source": [
    "# Sample data\n",
    "doc_vectors = []\n",
    "doc_targets = []\n",
    "\n",
    "# Iterate through class paths\n",
    "for path in path_list:\n",
    "    # Get class name from path\n",
    "    class_name = path.strip(\"/\").split(\"/\").pop()\n",
    "    print(class_name)\n",
    "    \n",
    "    # Get all files\n",
    "    for file_name in os.listdir(path)[0:10]:\n",
    "        # Check type\n",
    "        if not file_name.lower().endswith(\"txt\"):\n",
    "            continue\n",
    "        \n",
    "        # Read file\n",
    "        with open(os.path.join(path, file_name), \"rb\") as file_handle:\n",
    "            file_buffer = file_handle.read().decode(\"utf-8\")\n",
    "            doc_words = process_document(file_buffer)\n",
    "            doc_vectors.append(d2v_model.infer_vector(doc_words))\n",
    "            doc_targets.append(class_name)            "
   ]
  },
  {
   "cell_type": "code",
   "execution_count": 13,
   "metadata": {},
   "outputs": [
    {
     "name": "stdout",
     "output_type": "stream",
     "text": [
      "                  precision    recall  f1-score   support\n",
      "\n",
      "    construction       1.00      1.00      1.00        10\n",
      "          credit       1.00      1.00      1.00        10\n",
      "      employment       1.00      1.00      1.00        10\n",
      "software_license       1.00      1.00      1.00        10\n",
      "\n",
      "     avg / total       1.00      1.00      1.00        40\n",
      "\n"
     ]
    }
   ],
   "source": [
    "# Test logistic model\n",
    "log_model = sklearn.linear_model.LogisticRegressionCV(multi_class=\"multinomial\")\n",
    "log_model.fit(doc_vectors, doc_targets)\n",
    "\n",
    "# Test in-sample\n",
    "log_predicted = log_model.predict(doc_vectors)\n",
    "print(sklearn.metrics.classification_report(doc_targets, log_predicted))"
   ]
  },
  {
   "cell_type": "code",
   "execution_count": 14,
   "metadata": {},
   "outputs": [
    {
     "name": "stdout",
     "output_type": "stream",
     "text": [
      "                  precision    recall  f1-score   support\n",
      "\n",
      "    construction       1.00      1.00      1.00        10\n",
      "          credit       1.00      1.00      1.00        10\n",
      "      employment       1.00      1.00      1.00        10\n",
      "software_license       1.00      1.00      1.00        10\n",
      "\n",
      "     avg / total       1.00      1.00      1.00        40\n",
      "\n"
     ]
    }
   ],
   "source": [
    "# Test logistic model\n",
    "rf_model = sklearn.ensemble.RandomForestClassifier()\n",
    "rf_model.fit(doc_vectors, doc_targets)\n",
    "\n",
    "# Test in-sample\n",
    "rf_predicted = rf_model.predict(doc_vectors)\n",
    "print(sklearn.metrics.classification_report(doc_targets, rf_predicted))"
   ]
  },
  {
   "cell_type": "code",
   "execution_count": 15,
   "metadata": {},
   "outputs": [
    {
     "name": "stdout",
     "output_type": "stream",
     "text": [
      "construction\n",
      "credit\n",
      "employment\n",
      "software_license\n",
      "Logistic:\n",
      "                  precision    recall  f1-score   support\n",
      "\n",
      "    construction       0.93      0.77      0.84       100\n",
      "          credit       0.93      0.89      0.91       100\n",
      "      employment       0.83      1.00      0.91       100\n",
      "software_license       0.98      1.00      0.99        50\n",
      "\n",
      "     avg / total       0.91      0.90      0.90       350\n",
      "\n",
      "Random Forest:\n",
      "                  precision    recall  f1-score   support\n",
      "\n",
      "    construction       0.79      0.73      0.76       100\n",
      "          credit       0.87      0.77      0.81       100\n",
      "      employment       0.80      0.98      0.88       100\n",
      "software_license       0.96      0.88      0.92        50\n",
      "\n",
      "     avg / total       0.84      0.83      0.83       350\n",
      "\n"
     ]
    }
   ],
   "source": [
    "# Sample data\n",
    "test_doc_vectors = []\n",
    "test_doc_targets = []\n",
    "test_doc_predicted = []\n",
    "\n",
    "# Iterate through class paths\n",
    "for path in path_list:\n",
    "    # Get class name from path\n",
    "    class_name = path.strip(\"/\").split(\"/\").pop()\n",
    "    print(class_name)\n",
    "    \n",
    "    # Get all files\n",
    "    for file_name in os.listdir(path)[50:150]:\n",
    "        # Check type\n",
    "        if not file_name.lower().endswith(\"txt\"):\n",
    "            continue\n",
    "        \n",
    "        # Read file\n",
    "        with open(os.path.join(path, file_name), \"rb\") as file_handle:\n",
    "            file_buffer = file_handle.read().decode(\"utf-8\")\n",
    "            doc_words = process_document(file_buffer)\n",
    "            doc_vector = d2v_model.infer_vector(doc_words)\n",
    "            test_doc_vectors.append(doc_vector)\n",
    "            test_doc_targets.append(class_name)\n",
    "\n",
    "# Predict\n",
    "log_test_doc_predicted = log_model.predict(test_doc_vectors).tolist()\n",
    "rf_test_doc_predicted = rf_model.predict(test_doc_vectors).tolist()\n",
    "\n",
    "# Output report\n",
    "print(\"Logistic:\")\n",
    "print(sklearn.metrics.classification_report(test_doc_targets, log_test_doc_predicted))\n",
    "\n",
    "print(\"Random Forest:\")\n",
    "print(sklearn.metrics.classification_report(test_doc_targets, rf_test_doc_predicted))"
   ]
  },
  {
   "cell_type": "code",
   "execution_count": null,
   "metadata": {
    "collapsed": true
   },
   "outputs": [],
   "source": []
  }
 ],
 "metadata": {
  "kernelspec": {
   "display_name": "Python 3",
   "language": "python",
   "name": "python3"
  },
  "language_info": {
   "codemirror_mode": {
    "name": "ipython",
    "version": 3
   },
   "file_extension": ".py",
   "mimetype": "text/x-python",
   "name": "python",
   "nbconvert_exporter": "python",
   "pygments_lexer": "ipython3",
   "version": "3.5.2"
  }
 },
 "nbformat": 4,
 "nbformat_minor": 2
}
