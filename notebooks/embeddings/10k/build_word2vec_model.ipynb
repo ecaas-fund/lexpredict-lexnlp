{
 "cells": [
  {
   "cell_type": "code",
   "execution_count": 1,
   "metadata": {
    "collapsed": true
   },
   "outputs": [],
   "source": [
    "# Imports\n",
    "import tarfile\n",
    "import zlib\n",
    "from typing import List\n",
    "from tika import parser\n",
    "from nltk import sent_tokenize, wordpunct_tokenize\n",
    "from nltk.stem.snowball import EnglishStemmer\n",
    "from gensim.models.word2vec import Word2Vec"
   ]
  },
  {
   "cell_type": "code",
   "execution_count": 2,
   "metadata": {
    "collapsed": true
   },
   "outputs": [],
   "source": [
    "# Iterate through tar files"
   ]
  },
  {
   "cell_type": "code",
   "execution_count": 3,
   "metadata": {},
   "outputs": [
    {
     "data": {
      "text/plain": "[['this', 'is', 'an', 'exampl', 'sentenc'], ['and', 'yet', 'anoth', 'here']]"
     },
     "execution_count": 3,
     "metadata": {},
     "output_type": "execute_result"
    }
   ],
   "source": [
    "stemmer = EnglishStemmer()\n",
    "\n",
    "def extract_sentences(text: str) -> List[List[str]]:\n",
    "    \"\"\"\n",
    "    \"\"\"\n",
    "    sentence_list = [\n",
    "        [stemmer.stem(t).lower() for t in wordpunct_tokenize(sentence) if t.isalnum()]\n",
    "        for sentence in sent_tokenize(text)\n",
    "    ]\n",
    "    return sentence_list\n",
    "\n",
    "extract_sentences(\"This is an example sentence.  And yet another here.\")"
   ]
  },
  {
   "cell_type": "code",
   "execution_count": 4,
   "metadata": {},
   "outputs": [
    {
     "name": "stdout",
     "output_type": "stream",
     "text": [
      "data/filings_10k_1994.tar.gz\n"
     ]
    },
    {
     "ename": "FileNotFoundError",
     "evalue": "[Errno 2] No such file or directory: 'data/filings_10k_1994.tar.gz'",
     "output_type": "error",
     "traceback": [
      "\u001B[0;31m---------------------------------------------------------------------------\u001B[0m",
      "\u001B[0;31mFileNotFoundError\u001B[0m                         Traceback (most recent call last)",
      "Input \u001B[0;32mIn [4]\u001B[0m, in \u001B[0;36m<cell line: 2>\u001B[0;34m()\u001B[0m\n\u001B[1;32m      4\u001B[0m file_name \u001B[38;5;241m=\u001B[39m \u001B[38;5;124m\"\u001B[39m\u001B[38;5;124mdata/filings_10k_\u001B[39m\u001B[38;5;132;01m{0}\u001B[39;00m\u001B[38;5;124m.tar.gz\u001B[39m\u001B[38;5;124m\"\u001B[39m\u001B[38;5;241m.\u001B[39mformat(year)\n\u001B[1;32m      5\u001B[0m \u001B[38;5;28mprint\u001B[39m(file_name)\n\u001B[0;32m----> 6\u001B[0m tar_file \u001B[38;5;241m=\u001B[39m \u001B[43mtarfile\u001B[49m\u001B[38;5;241;43m.\u001B[39;49m\u001B[43mopen\u001B[49m\u001B[43m(\u001B[49m\u001B[43mfile_name\u001B[49m\u001B[43m)\u001B[49m\n\u001B[1;32m      8\u001B[0m \u001B[38;5;66;03m# Sample data\u001B[39;00m\n\u001B[1;32m      9\u001B[0m sample_sentence_list \u001B[38;5;241m=\u001B[39m []\n",
      "File \u001B[0;32m/usr/lib/python3.8/tarfile.py:1603\u001B[0m, in \u001B[0;36mTarFile.open\u001B[0;34m(cls, name, mode, fileobj, bufsize, **kwargs)\u001B[0m\n\u001B[1;32m   1601\u001B[0m     saved_pos \u001B[38;5;241m=\u001B[39m fileobj\u001B[38;5;241m.\u001B[39mtell()\n\u001B[1;32m   1602\u001B[0m \u001B[38;5;28;01mtry\u001B[39;00m:\n\u001B[0;32m-> 1603\u001B[0m     \u001B[38;5;28;01mreturn\u001B[39;00m \u001B[43mfunc\u001B[49m\u001B[43m(\u001B[49m\u001B[43mname\u001B[49m\u001B[43m,\u001B[49m\u001B[43m \u001B[49m\u001B[38;5;124;43m\"\u001B[39;49m\u001B[38;5;124;43mr\u001B[39;49m\u001B[38;5;124;43m\"\u001B[39;49m\u001B[43m,\u001B[49m\u001B[43m \u001B[49m\u001B[43mfileobj\u001B[49m\u001B[43m,\u001B[49m\u001B[43m \u001B[49m\u001B[38;5;241;43m*\u001B[39;49m\u001B[38;5;241;43m*\u001B[39;49m\u001B[43mkwargs\u001B[49m\u001B[43m)\u001B[49m\n\u001B[1;32m   1604\u001B[0m \u001B[38;5;28;01mexcept\u001B[39;00m (ReadError, CompressionError):\n\u001B[1;32m   1605\u001B[0m     \u001B[38;5;28;01mif\u001B[39;00m fileobj \u001B[38;5;129;01mis\u001B[39;00m \u001B[38;5;129;01mnot\u001B[39;00m \u001B[38;5;28;01mNone\u001B[39;00m:\n",
      "File \u001B[0;32m/usr/lib/python3.8/tarfile.py:1667\u001B[0m, in \u001B[0;36mTarFile.gzopen\u001B[0;34m(cls, name, mode, fileobj, compresslevel, **kwargs)\u001B[0m\n\u001B[1;32m   1664\u001B[0m     \u001B[38;5;28;01mraise\u001B[39;00m CompressionError(\u001B[38;5;124m\"\u001B[39m\u001B[38;5;124mgzip module is not available\u001B[39m\u001B[38;5;124m\"\u001B[39m)\n\u001B[1;32m   1666\u001B[0m \u001B[38;5;28;01mtry\u001B[39;00m:\n\u001B[0;32m-> 1667\u001B[0m     fileobj \u001B[38;5;241m=\u001B[39m \u001B[43mGzipFile\u001B[49m\u001B[43m(\u001B[49m\u001B[43mname\u001B[49m\u001B[43m,\u001B[49m\u001B[43m \u001B[49m\u001B[43mmode\u001B[49m\u001B[43m \u001B[49m\u001B[38;5;241;43m+\u001B[39;49m\u001B[43m \u001B[49m\u001B[38;5;124;43m\"\u001B[39;49m\u001B[38;5;124;43mb\u001B[39;49m\u001B[38;5;124;43m\"\u001B[39;49m\u001B[43m,\u001B[49m\u001B[43m \u001B[49m\u001B[43mcompresslevel\u001B[49m\u001B[43m,\u001B[49m\u001B[43m \u001B[49m\u001B[43mfileobj\u001B[49m\u001B[43m)\u001B[49m\n\u001B[1;32m   1668\u001B[0m \u001B[38;5;28;01mexcept\u001B[39;00m \u001B[38;5;167;01mOSError\u001B[39;00m:\n\u001B[1;32m   1669\u001B[0m     \u001B[38;5;28;01mif\u001B[39;00m fileobj \u001B[38;5;129;01mis\u001B[39;00m \u001B[38;5;129;01mnot\u001B[39;00m \u001B[38;5;28;01mNone\u001B[39;00m \u001B[38;5;129;01mand\u001B[39;00m mode \u001B[38;5;241m==\u001B[39m \u001B[38;5;124m'\u001B[39m\u001B[38;5;124mr\u001B[39m\u001B[38;5;124m'\u001B[39m:\n",
      "File \u001B[0;32m/usr/lib/python3.8/gzip.py:173\u001B[0m, in \u001B[0;36mGzipFile.__init__\u001B[0;34m(self, filename, mode, compresslevel, fileobj, mtime)\u001B[0m\n\u001B[1;32m    171\u001B[0m     mode \u001B[38;5;241m+\u001B[39m\u001B[38;5;241m=\u001B[39m \u001B[38;5;124m'\u001B[39m\u001B[38;5;124mb\u001B[39m\u001B[38;5;124m'\u001B[39m\n\u001B[1;32m    172\u001B[0m \u001B[38;5;28;01mif\u001B[39;00m fileobj \u001B[38;5;129;01mis\u001B[39;00m \u001B[38;5;28;01mNone\u001B[39;00m:\n\u001B[0;32m--> 173\u001B[0m     fileobj \u001B[38;5;241m=\u001B[39m \u001B[38;5;28mself\u001B[39m\u001B[38;5;241m.\u001B[39mmyfileobj \u001B[38;5;241m=\u001B[39m \u001B[43mbuiltins\u001B[49m\u001B[38;5;241;43m.\u001B[39;49m\u001B[43mopen\u001B[49m\u001B[43m(\u001B[49m\u001B[43mfilename\u001B[49m\u001B[43m,\u001B[49m\u001B[43m \u001B[49m\u001B[43mmode\u001B[49m\u001B[43m \u001B[49m\u001B[38;5;129;43;01mor\u001B[39;49;00m\u001B[43m \u001B[49m\u001B[38;5;124;43m'\u001B[39;49m\u001B[38;5;124;43mrb\u001B[39;49m\u001B[38;5;124;43m'\u001B[39;49m\u001B[43m)\u001B[49m\n\u001B[1;32m    174\u001B[0m \u001B[38;5;28;01mif\u001B[39;00m filename \u001B[38;5;129;01mis\u001B[39;00m \u001B[38;5;28;01mNone\u001B[39;00m:\n\u001B[1;32m    175\u001B[0m     filename \u001B[38;5;241m=\u001B[39m \u001B[38;5;28mgetattr\u001B[39m(fileobj, \u001B[38;5;124m'\u001B[39m\u001B[38;5;124mname\u001B[39m\u001B[38;5;124m'\u001B[39m, \u001B[38;5;124m'\u001B[39m\u001B[38;5;124m'\u001B[39m)\n",
      "\u001B[0;31mFileNotFoundError\u001B[0m: [Errno 2] No such file or directory: 'data/filings_10k_1994.tar.gz'"
     ]
    }
   ],
   "source": [
    "# Setup file\n",
    "for year in range(1994, 2003):\n",
    "    # Get file name and open\n",
    "    file_name = \"data/filings_10k_{0}.tar.gz\".format(year)\n",
    "    print(file_name)\n",
    "    tar_file = tarfile.open(file_name)\n",
    "\n",
    "    # Sample data\n",
    "    sample_sentence_list = []\n",
    "\n",
    "    # Iterate through members\n",
    "    for j, tar_member in enumerate(tar_file.getmembers()):\n",
    "        if j % 1000 == 0:\n",
    "            print((year, j, len(sample_sentence_list)))\n",
    "\n",
    "        # Skip non-files\n",
    "        if not tar_member.isfile():\n",
    "            continue\n",
    "\n",
    "        # Parse real files\n",
    "        try:\n",
    "            # Read tar data\n",
    "            member_buffer = zlib.decompress(tar_file.extractfile(tar_member).read())\n",
    "\n",
    "            # Send to tika\n",
    "            filing_buffer = parser.from_buffer(member_buffer, 'http://localhost:9998/tika')\n",
    "            if 'content' in filing_buffer:\n",
    "                filing_buffer = filing_buffer['content']\n",
    "            else:\n",
    "                continue\n",
    "\n",
    "            # Parse\n",
    "            #print((tar_member, len(tar_data), len(filing_buffer), len(sample_sentence_list)))\n",
    "\n",
    "            # Get sentence list\n",
    "            sample_sentence_list.extend(extract_sentences(filing_buffer))\n",
    "\n",
    "        except Exception as e:\n",
    "            print(e)\n",
    "    \n",
    "    print(\"beginning training...\")\n",
    "    # Train w2v CBOW model\n",
    "    w2v_model_cbow = Word2Vec(sample_sentence_list, vector_size=200, window=20, min_count=10, workers=2)\n",
    "    w2v_model_cbow.save(\"w2v_model_cbow_{0}\".format(year))\n",
    "    print(\"cbow trained.\")\n",
    "\n",
    "    # Train w2v SG model\n",
    "    w2v_model_sg = Word2Vec(sample_sentence_list, vector_size=200, window=20, min_count=10, workers=2, sg=1)\n",
    "    w2v_model_sg.save(\"w2v_model_sg_{0}\".format(year))\n",
    "    print(\"sg trained.\")"
   ]
  },
  {
   "cell_type": "code",
   "execution_count": null,
   "metadata": {
    "collapsed": true
   },
   "outputs": [],
   "source": []
  }
 ],
 "metadata": {
  "kernelspec": {
   "display_name": "Python 3",
   "language": "python",
   "name": "python3"
  },
  "language_info": {
   "codemirror_mode": {
    "name": "ipython",
    "version": 3
   },
   "file_extension": ".py",
   "mimetype": "text/x-python",
   "name": "python",
   "nbconvert_exporter": "python",
   "pygments_lexer": "ipython3",
   "version": "3.5.2"
  }
 },
 "nbformat": 4,
 "nbformat_minor": 2
}