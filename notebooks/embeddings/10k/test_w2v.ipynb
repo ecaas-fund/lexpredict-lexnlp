{
 "cells": [
  {
   "cell_type": "code",
   "execution_count": 1,
   "metadata": {
    "collapsed": true
   },
   "outputs": [],
   "source": [
    "# Imports\n",
    "import glob\n",
    "import os\n",
    "import sys\n",
    "\n",
    "# NLP/ML imports\n",
    "import spacy\n",
    "import gensim\n",
    "import gensim.models.word2vec\n",
    "\n",
    "# Iterate through tar files\n",
    "nlp = spacy.load('en')"
   ]
  },
  {
   "cell_type": "code",
   "execution_count": 2,
   "metadata": {
    "collapsed": true
   },
   "outputs": [],
   "source": [
    "def extract_sentences(text):\n",
    "    sentence_list = []\n",
    "    \n",
    "    # Create spacy document\n",
    "    doc = nlp(text)\n",
    "    for sentence in doc.sents:\n",
    "        sentence_list.append([t.lemma_ for t in sentence if t.lemma_.isalnum()])\n",
    "\n",
    "    return sentence_list"
   ]
  },
  {
   "cell_type": "code",
   "execution_count": 70,
   "metadata": {},
   "outputs": [
    {
     "name": "stdout",
     "output_type": "stream",
     "text": [
      "1996\n",
      "[('code', 0.4790244698524475), ('law', 0.44149965047836304), ('acts', 0.43453389406204224), ('statute', 0.410686731338501), ('rule', 0.39254963397979736), ('puhca', 0.36665159463882446), ('firrea', 0.3643118441104889), ('fdicia', 0.36363691091537476), ('caa', 0.3528440594673157), ('statutes', 0.3485602140426636)]\n",
      "1997\n",
      "[('code', 0.48516449332237244), ('law', 0.44980108737945557), ('acts', 0.44874972105026245), ('rule', 0.44818782806396484), ('statute', 0.4136551320552826), ('commission', 0.3913688063621521), ('legislation', 0.37394478917121887), ('fdia', 0.3636118769645691), ('clia', 0.35529571771621704), ('rcra', 0.352274626493454)]\n",
      "1998\n",
      "[('code', 0.48053818941116333), ('law', 0.44353529810905457), ('rule', 0.43029406666755676), ('statute', 0.3979801535606384), ('commission', 0.38001352548599243), ('promulgate', 0.36773884296417236), ('acts', 0.36745554208755493), ('1179', 0.36561763286590576), ('igra', 0.36344197392463684), ('fdca', 0.3600931465625763)]\n",
      "1999\n",
      "[('acts', 0.4960445463657379), ('statute', 0.4525786340236664), ('code', 0.44660139083862305), ('law', 0.44341954588890076), ('rule', 0.43893009424209595), ('statutes', 0.3919801115989685), ('commission', 0.367259681224823), ('section', 0.3660794794559479), ('legislation', 0.36112162470817566), ('promulgate', 0.3565099239349365)]\n",
      "2000\n",
      "[('law', 0.47750788927078247), ('code', 0.4726012945175171), ('rule', 0.4408370554447174), ('statute', 0.4124697744846344), ('acts', 0.40424007177352905), ('legislation', 0.40292447805404663), ('fdca', 0.37694889307022095), ('commission', 0.36744993925094604), ('fdcpa', 0.36723601818084717), ('puhca', 0.3616713285446167)]\n",
      "2001\n",
      "[('law', 0.47970497608184814), ('code', 0.46825483441352844), ('rule', 0.44021162390708923), ('statute', 0.43966829776763916), ('rules', 0.40858471393585205), ('glba', 0.37694215774536133), ('commission', 0.37375590205192566), ('fdcpa', 0.36639243364334106), ('promulgate', 0.3631247878074646), ('acts', 0.35815832018852234)]\n",
      "2002\n",
      "[('code', 0.4766840934753418), ('law', 0.44313642382621765), ('rule', 0.4306165874004364), ('statute', 0.4235680103302002), ('commission', 0.38786256313323975), ('puhca', 0.38459068536758423), ('acts', 0.3778868019580841), ('legislation', 0.3767964243888855), ('promulgate', 0.3723263740539551), ('fsma', 0.36546170711517334)]\n"
     ]
    }
   ],
   "source": [
    "for year in range(1996, 2003):\n",
    "    w2v = gensim.models.word2vec.Word2Vec.load(\"./w2v_model_cbow_{0}\".format(year))\n",
    "    print(year)\n",
    "    print(w2v.most_similar(positive=[\"act\"]))"
   ]
  },
  {
   "cell_type": "code",
   "execution_count": null,
   "metadata": {
    "collapsed": true
   },
   "outputs": [],
   "source": []
  }
 ],
 "metadata": {
  "kernelspec": {
   "display_name": "Python 3",
   "language": "python",
   "name": "python3"
  },
  "language_info": {
   "codemirror_mode": {
    "name": "ipython",
    "version": 3
   },
   "file_extension": ".py",
   "mimetype": "text/x-python",
   "name": "python",
   "nbconvert_exporter": "python",
   "pygments_lexer": "ipython3",
   "version": "3.5.2"
  }
 },
 "nbformat": 4,
 "nbformat_minor": 2
}
